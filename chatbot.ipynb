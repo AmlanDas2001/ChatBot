{
 "cells": [
  {
   "cell_type": "code",
   "execution_count": 30,
   "metadata": {
    "execution": {
     "iopub.execute_input": "2022-09-14T15:36:15.546711Z",
     "iopub.status.busy": "2022-09-14T15:36:15.546016Z",
     "iopub.status.idle": "2022-09-14T15:36:15.553341Z",
     "shell.execute_reply": "2022-09-14T15:36:15.552139Z",
     "shell.execute_reply.started": "2022-09-14T15:36:15.546564Z"
    }
   },
   "outputs": [],
   "source": [
    "import pickle\n",
    "import numpy as np"
   ]
  },
  {
   "cell_type": "code",
   "execution_count": 31,
   "metadata": {
    "execution": {
     "iopub.execute_input": "2022-09-14T15:36:15.556678Z",
     "iopub.status.busy": "2022-09-14T15:36:15.555710Z",
     "iopub.status.idle": "2022-09-14T15:36:15.690099Z",
     "shell.execute_reply": "2022-09-14T15:36:15.689072Z",
     "shell.execute_reply.started": "2022-09-14T15:36:15.556610Z"
    }
   },
   "outputs": [],
   "source": [
    "with open(\"train_qa.txt\", \"rb\") as fp:   \n",
    "    train_data =  pickle.load(fp)"
   ]
  },
  {
   "cell_type": "code",
   "execution_count": 32,
   "metadata": {
    "execution": {
     "iopub.execute_input": "2022-09-14T15:36:15.692727Z",
     "iopub.status.busy": "2022-09-14T15:36:15.691965Z",
     "iopub.status.idle": "2022-09-14T15:36:15.717565Z",
     "shell.execute_reply": "2022-09-14T15:36:15.716744Z",
     "shell.execute_reply.started": "2022-09-14T15:36:15.692679Z"
    }
   },
   "outputs": [],
   "source": [
    "with open(\"test_qa.txt\", \"rb\") as fp:   \n",
    "    test_data =  pickle.load(fp)"
   ]
  },
  {
   "cell_type": "code",
   "execution_count": 33,
   "metadata": {
    "execution": {
     "iopub.execute_input": "2022-09-14T15:36:15.720996Z",
     "iopub.status.busy": "2022-09-14T15:36:15.720527Z",
     "iopub.status.idle": "2022-09-14T15:36:15.732316Z",
     "shell.execute_reply": "2022-09-14T15:36:15.730977Z",
     "shell.execute_reply.started": "2022-09-14T15:36:15.720949Z"
    }
   },
   "outputs": [
    {
     "data": {
      "text/plain": [
       "list"
      ]
     },
     "execution_count": 33,
     "metadata": {},
     "output_type": "execute_result"
    }
   ],
   "source": [
    "type(test_data)"
   ]
  },
  {
   "cell_type": "code",
   "execution_count": 34,
   "metadata": {
    "execution": {
     "iopub.execute_input": "2022-09-14T15:36:15.737700Z",
     "iopub.status.busy": "2022-09-14T15:36:15.737087Z",
     "iopub.status.idle": "2022-09-14T15:36:15.744889Z",
     "shell.execute_reply": "2022-09-14T15:36:15.743762Z",
     "shell.execute_reply.started": "2022-09-14T15:36:15.737633Z"
    }
   },
   "outputs": [
    {
     "data": {
      "text/plain": [
       "list"
      ]
     },
     "execution_count": 34,
     "metadata": {},
     "output_type": "execute_result"
    }
   ],
   "source": [
    "type(train_data)"
   ]
  },
  {
   "cell_type": "code",
   "execution_count": 35,
   "metadata": {
    "execution": {
     "iopub.execute_input": "2022-09-14T15:36:15.749386Z",
     "iopub.status.busy": "2022-09-14T15:36:15.748778Z",
     "iopub.status.idle": "2022-09-14T15:36:15.756736Z",
     "shell.execute_reply": "2022-09-14T15:36:15.755588Z",
     "shell.execute_reply.started": "2022-09-14T15:36:15.749348Z"
    }
   },
   "outputs": [
    {
     "data": {
      "text/plain": [
       "1000"
      ]
     },
     "execution_count": 35,
     "metadata": {},
     "output_type": "execute_result"
    }
   ],
   "source": [
    "len(test_data)"
   ]
  },
  {
   "cell_type": "code",
   "execution_count": 36,
   "metadata": {
    "execution": {
     "iopub.execute_input": "2022-09-14T15:36:15.760026Z",
     "iopub.status.busy": "2022-09-14T15:36:15.759305Z",
     "iopub.status.idle": "2022-09-14T15:36:15.770198Z",
     "shell.execute_reply": "2022-09-14T15:36:15.769028Z",
     "shell.execute_reply.started": "2022-09-14T15:36:15.759980Z"
    }
   },
   "outputs": [
    {
     "data": {
      "text/plain": [
       "10000"
      ]
     },
     "execution_count": 36,
     "metadata": {},
     "output_type": "execute_result"
    }
   ],
   "source": [
    "len(train_data)"
   ]
  },
  {
   "cell_type": "code",
   "execution_count": 37,
   "metadata": {
    "execution": {
     "iopub.execute_input": "2022-09-14T15:36:15.773071Z",
     "iopub.status.busy": "2022-09-14T15:36:15.772440Z",
     "iopub.status.idle": "2022-09-14T15:36:15.814965Z",
     "shell.execute_reply": "2022-09-14T15:36:15.813730Z",
     "shell.execute_reply.started": "2022-09-14T15:36:15.773023Z"
    }
   },
   "outputs": [
    {
     "data": {
      "text/plain": [
       "(['Mary',\n",
       "  'moved',\n",
       "  'to',\n",
       "  'the',\n",
       "  'bathroom',\n",
       "  '.',\n",
       "  'Sandra',\n",
       "  'journeyed',\n",
       "  'to',\n",
       "  'the',\n",
       "  'bedroom',\n",
       "  '.'],\n",
       " ['Is', 'Sandra', 'in', 'the', 'hallway', '?'],\n",
       " 'no')"
      ]
     },
     "execution_count": 37,
     "metadata": {},
     "output_type": "execute_result"
    }
   ],
   "source": [
    "train_data[0]"
   ]
  },
  {
   "cell_type": "code",
   "execution_count": 38,
   "metadata": {
    "execution": {
     "iopub.execute_input": "2022-09-14T15:36:15.817246Z",
     "iopub.status.busy": "2022-09-14T15:36:15.816516Z",
     "iopub.status.idle": "2022-09-14T15:36:15.824057Z",
     "shell.execute_reply": "2022-09-14T15:36:15.823013Z",
     "shell.execute_reply.started": "2022-09-14T15:36:15.817191Z"
    }
   },
   "outputs": [
    {
     "data": {
      "text/plain": [
       "'Mary moved to the bathroom . Sandra journeyed to the bedroom .'"
      ]
     },
     "execution_count": 38,
     "metadata": {},
     "output_type": "execute_result"
    }
   ],
   "source": [
    "' '.join(train_data[0][0])"
   ]
  },
  {
   "cell_type": "code",
   "execution_count": 39,
   "metadata": {
    "execution": {
     "iopub.execute_input": "2022-09-14T15:36:15.826218Z",
     "iopub.status.busy": "2022-09-14T15:36:15.825625Z",
     "iopub.status.idle": "2022-09-14T15:36:15.837030Z",
     "shell.execute_reply": "2022-09-14T15:36:15.835835Z",
     "shell.execute_reply.started": "2022-09-14T15:36:15.826175Z"
    }
   },
   "outputs": [
    {
     "data": {
      "text/plain": [
       "'Is Sandra in the hallway ?'"
      ]
     },
     "execution_count": 39,
     "metadata": {},
     "output_type": "execute_result"
    }
   ],
   "source": [
    "' '.join(train_data[0][1])"
   ]
  },
  {
   "cell_type": "code",
   "execution_count": 40,
   "metadata": {
    "execution": {
     "iopub.execute_input": "2022-09-14T15:36:15.839584Z",
     "iopub.status.busy": "2022-09-14T15:36:15.838763Z",
     "iopub.status.idle": "2022-09-14T15:36:15.851551Z",
     "shell.execute_reply": "2022-09-14T15:36:15.850716Z",
     "shell.execute_reply.started": "2022-09-14T15:36:15.839437Z"
    }
   },
   "outputs": [
    {
     "data": {
      "text/plain": [
       "'no'"
      ]
     },
     "execution_count": 40,
     "metadata": {},
     "output_type": "execute_result"
    }
   ],
   "source": [
    "train_data[0][2]"
   ]
  },
  {
   "cell_type": "code",
   "execution_count": 41,
   "metadata": {
    "execution": {
     "iopub.execute_input": "2022-09-14T15:36:15.853882Z",
     "iopub.status.busy": "2022-09-14T15:36:15.853139Z",
     "iopub.status.idle": "2022-09-14T15:36:15.861482Z",
     "shell.execute_reply": "2022-09-14T15:36:15.860251Z",
     "shell.execute_reply.started": "2022-09-14T15:36:15.853835Z"
    }
   },
   "outputs": [],
   "source": [
    "# Create a set that holds the vocab words\n",
    "vocab = set()"
   ]
  },
  {
   "cell_type": "code",
   "execution_count": 42,
   "metadata": {
    "execution": {
     "iopub.execute_input": "2022-09-14T15:36:15.863742Z",
     "iopub.status.busy": "2022-09-14T15:36:15.863091Z",
     "iopub.status.idle": "2022-09-14T15:36:15.912229Z",
     "shell.execute_reply": "2022-09-14T15:36:15.873065Z",
     "shell.execute_reply.started": "2022-09-14T15:36:15.863698Z"
    }
   },
   "outputs": [],
   "source": [
    "all_data = test_data + train_data"
   ]
  },
  {
   "cell_type": "code",
   "execution_count": 43,
   "metadata": {
    "execution": {
     "iopub.execute_input": "2022-09-14T15:36:15.915178Z",
     "iopub.status.busy": "2022-09-14T15:36:15.914406Z",
     "iopub.status.idle": "2022-09-14T15:36:15.978167Z",
     "shell.execute_reply": "2022-09-14T15:36:15.977248Z",
     "shell.execute_reply.started": "2022-09-14T15:36:15.915117Z"
    }
   },
   "outputs": [],
   "source": [
    "for story, question , answer in all_data:\n",
    "    vocab = vocab.union(set(story))\n",
    "    vocab = vocab.union(set(question))"
   ]
  },
  {
   "cell_type": "code",
   "execution_count": 44,
   "metadata": {
    "execution": {
     "iopub.execute_input": "2022-09-14T15:36:15.980118Z",
     "iopub.status.busy": "2022-09-14T15:36:15.979718Z",
     "iopub.status.idle": "2022-09-14T15:36:15.986089Z",
     "shell.execute_reply": "2022-09-14T15:36:15.984721Z",
     "shell.execute_reply.started": "2022-09-14T15:36:15.980075Z"
    }
   },
   "outputs": [],
   "source": [
    "vocab.add('no')\n",
    "vocab.add('yes')"
   ]
  },
  {
   "cell_type": "code",
   "execution_count": 45,
   "metadata": {
    "execution": {
     "iopub.execute_input": "2022-09-14T15:36:15.988258Z",
     "iopub.status.busy": "2022-09-14T15:36:15.987865Z",
     "iopub.status.idle": "2022-09-14T15:36:16.019877Z",
     "shell.execute_reply": "2022-09-14T15:36:16.018673Z",
     "shell.execute_reply.started": "2022-09-14T15:36:15.988224Z"
    }
   },
   "outputs": [
    {
     "data": {
      "text/plain": [
       "{'.',\n",
       " '?',\n",
       " 'Daniel',\n",
       " 'Is',\n",
       " 'John',\n",
       " 'Mary',\n",
       " 'Sandra',\n",
       " 'apple',\n",
       " 'back',\n",
       " 'bathroom',\n",
       " 'bedroom',\n",
       " 'discarded',\n",
       " 'down',\n",
       " 'dropped',\n",
       " 'football',\n",
       " 'garden',\n",
       " 'got',\n",
       " 'grabbed',\n",
       " 'hallway',\n",
       " 'in',\n",
       " 'journeyed',\n",
       " 'kitchen',\n",
       " 'left',\n",
       " 'milk',\n",
       " 'moved',\n",
       " 'no',\n",
       " 'office',\n",
       " 'picked',\n",
       " 'put',\n",
       " 'the',\n",
       " 'there',\n",
       " 'to',\n",
       " 'took',\n",
       " 'travelled',\n",
       " 'up',\n",
       " 'went',\n",
       " 'yes'}"
      ]
     },
     "execution_count": 45,
     "metadata": {},
     "output_type": "execute_result"
    }
   ],
   "source": [
    "vocab"
   ]
  },
  {
   "cell_type": "code",
   "execution_count": 46,
   "metadata": {
    "execution": {
     "iopub.execute_input": "2022-09-14T15:36:16.022802Z",
     "iopub.status.busy": "2022-09-14T15:36:16.021863Z",
     "iopub.status.idle": "2022-09-14T15:36:16.031112Z",
     "shell.execute_reply": "2022-09-14T15:36:16.029479Z",
     "shell.execute_reply.started": "2022-09-14T15:36:16.022752Z"
    }
   },
   "outputs": [],
   "source": [
    "vocab_len = len(vocab) + 1 "
   ]
  },
  {
   "cell_type": "code",
   "execution_count": 47,
   "metadata": {
    "execution": {
     "iopub.execute_input": "2022-09-14T15:36:16.034065Z",
     "iopub.status.busy": "2022-09-14T15:36:16.033091Z",
     "iopub.status.idle": "2022-09-14T15:36:16.045059Z",
     "shell.execute_reply": "2022-09-14T15:36:16.043932Z",
     "shell.execute_reply.started": "2022-09-14T15:36:16.034017Z"
    }
   },
   "outputs": [],
   "source": [
    "max_story_len = max([len(data[0]) for data in all_data])"
   ]
  },
  {
   "cell_type": "code",
   "execution_count": 48,
   "metadata": {
    "execution": {
     "iopub.execute_input": "2022-09-14T15:36:16.047835Z",
     "iopub.status.busy": "2022-09-14T15:36:16.047396Z",
     "iopub.status.idle": "2022-09-14T15:36:16.060195Z",
     "shell.execute_reply": "2022-09-14T15:36:16.059270Z",
     "shell.execute_reply.started": "2022-09-14T15:36:16.047803Z"
    }
   },
   "outputs": [
    {
     "data": {
      "text/plain": [
       "156"
      ]
     },
     "execution_count": 48,
     "metadata": {},
     "output_type": "execute_result"
    }
   ],
   "source": [
    "max_story_len"
   ]
  },
  {
   "cell_type": "code",
   "execution_count": 49,
   "metadata": {
    "execution": {
     "iopub.execute_input": "2022-09-14T15:36:16.061771Z",
     "iopub.status.busy": "2022-09-14T15:36:16.061456Z",
     "iopub.status.idle": "2022-09-14T15:36:16.073067Z",
     "shell.execute_reply": "2022-09-14T15:36:16.071780Z",
     "shell.execute_reply.started": "2022-09-14T15:36:16.061742Z"
    }
   },
   "outputs": [],
   "source": [
    "max_question_len = max([len(data[1]) for data in all_data])"
   ]
  },
  {
   "cell_type": "code",
   "execution_count": 50,
   "metadata": {
    "execution": {
     "iopub.execute_input": "2022-09-14T15:36:16.075942Z",
     "iopub.status.busy": "2022-09-14T15:36:16.075053Z",
     "iopub.status.idle": "2022-09-14T15:36:16.121564Z",
     "shell.execute_reply": "2022-09-14T15:36:16.120664Z",
     "shell.execute_reply.started": "2022-09-14T15:36:16.075897Z"
    }
   },
   "outputs": [
    {
     "data": {
      "text/plain": [
       "6"
      ]
     },
     "execution_count": 50,
     "metadata": {},
     "output_type": "execute_result"
    }
   ],
   "source": [
    "max_question_len"
   ]
  },
  {
   "cell_type": "code",
   "execution_count": 51,
   "metadata": {
    "execution": {
     "iopub.execute_input": "2022-09-14T15:36:16.125814Z",
     "iopub.status.busy": "2022-09-14T15:36:16.125402Z",
     "iopub.status.idle": "2022-09-14T15:36:16.135623Z",
     "shell.execute_reply": "2022-09-14T15:36:16.134466Z",
     "shell.execute_reply.started": "2022-09-14T15:36:16.125778Z"
    }
   },
   "outputs": [
    {
     "data": {
      "text/plain": [
       "{'.',\n",
       " '?',\n",
       " 'Daniel',\n",
       " 'Is',\n",
       " 'John',\n",
       " 'Mary',\n",
       " 'Sandra',\n",
       " 'apple',\n",
       " 'back',\n",
       " 'bathroom',\n",
       " 'bedroom',\n",
       " 'discarded',\n",
       " 'down',\n",
       " 'dropped',\n",
       " 'football',\n",
       " 'garden',\n",
       " 'got',\n",
       " 'grabbed',\n",
       " 'hallway',\n",
       " 'in',\n",
       " 'journeyed',\n",
       " 'kitchen',\n",
       " 'left',\n",
       " 'milk',\n",
       " 'moved',\n",
       " 'no',\n",
       " 'office',\n",
       " 'picked',\n",
       " 'put',\n",
       " 'the',\n",
       " 'there',\n",
       " 'to',\n",
       " 'took',\n",
       " 'travelled',\n",
       " 'up',\n",
       " 'went',\n",
       " 'yes'}"
      ]
     },
     "execution_count": 51,
     "metadata": {},
     "output_type": "execute_result"
    }
   ],
   "source": [
    "vocab"
   ]
  },
  {
   "cell_type": "code",
   "execution_count": 52,
   "metadata": {
    "execution": {
     "iopub.execute_input": "2022-09-14T15:36:16.138266Z",
     "iopub.status.busy": "2022-09-14T15:36:16.137581Z",
     "iopub.status.idle": "2022-09-14T15:36:16.144474Z",
     "shell.execute_reply": "2022-09-14T15:36:16.143398Z",
     "shell.execute_reply.started": "2022-09-14T15:36:16.138220Z"
    }
   },
   "outputs": [],
   "source": [
    "\n",
    "vocab_size = len(vocab) + 1"
   ]
  },
  {
   "cell_type": "code",
   "execution_count": 53,
   "metadata": {
    "execution": {
     "iopub.execute_input": "2022-09-14T15:36:16.155020Z",
     "iopub.status.busy": "2022-09-14T15:36:16.153851Z",
     "iopub.status.idle": "2022-09-14T15:36:22.721993Z",
     "shell.execute_reply": "2022-09-14T15:36:22.720672Z",
     "shell.execute_reply.started": "2022-09-14T15:36:16.154839Z"
    }
   },
   "outputs": [],
   "source": [
    "import tensorflow as tf\n",
    "from tensorflow.keras.preprocessing.text import Tokenizer\n",
    "from keras_preprocessing.sequence import pad_sequences"
   ]
  },
  {
   "cell_type": "code",
   "execution_count": 54,
   "metadata": {
    "execution": {
     "iopub.execute_input": "2022-09-14T15:36:22.724765Z",
     "iopub.status.busy": "2022-09-14T15:36:22.724328Z",
     "iopub.status.idle": "2022-09-14T15:36:22.738444Z",
     "shell.execute_reply": "2022-09-14T15:36:22.736199Z",
     "shell.execute_reply.started": "2022-09-14T15:36:22.724720Z"
    }
   },
   "outputs": [],
   "source": [
    "tokenizer = Tokenizer(filters=[])\n",
    "tokenizer.fit_on_texts(vocab)"
   ]
  },
  {
   "cell_type": "code",
   "execution_count": 55,
   "metadata": {
    "execution": {
     "iopub.execute_input": "2022-09-14T15:36:22.744092Z",
     "iopub.status.busy": "2022-09-14T15:36:22.740997Z",
     "iopub.status.idle": "2022-09-14T15:36:22.759477Z",
     "shell.execute_reply": "2022-09-14T15:36:22.756945Z",
     "shell.execute_reply.started": "2022-09-14T15:36:22.744035Z"
    }
   },
   "outputs": [
    {
     "data": {
      "text/plain": [
       "{'to': 1,\n",
       " 'sandra': 2,\n",
       " 'kitchen': 3,\n",
       " 'put': 4,\n",
       " 'football': 5,\n",
       " 'daniel': 6,\n",
       " 'mary': 7,\n",
       " 'milk': 8,\n",
       " 'the': 9,\n",
       " 'yes': 10,\n",
       " 'went': 11,\n",
       " 'in': 12,\n",
       " 'took': 13,\n",
       " 'garden': 14,\n",
       " 'bedroom': 15,\n",
       " 'picked': 16,\n",
       " 'moved': 17,\n",
       " 'got': 18,\n",
       " 'bathroom': 19,\n",
       " 'journeyed': 20,\n",
       " 'there': 21,\n",
       " 'travelled': 22,\n",
       " 'up': 23,\n",
       " '?': 24,\n",
       " 'no': 25,\n",
       " 'down': 26,\n",
       " 'dropped': 27,\n",
       " 'grabbed': 28,\n",
       " 'back': 29,\n",
       " '.': 30,\n",
       " 'office': 31,\n",
       " 'is': 32,\n",
       " 'apple': 33,\n",
       " 'john': 34,\n",
       " 'left': 35,\n",
       " 'hallway': 36,\n",
       " 'discarded': 37}"
      ]
     },
     "execution_count": 55,
     "metadata": {},
     "output_type": "execute_result"
    }
   ],
   "source": [
    "tokenizer.word_index"
   ]
  },
  {
   "cell_type": "code",
   "execution_count": 56,
   "metadata": {
    "execution": {
     "iopub.execute_input": "2022-09-14T15:36:22.766410Z",
     "iopub.status.busy": "2022-09-14T15:36:22.764451Z",
     "iopub.status.idle": "2022-09-14T15:36:22.785351Z",
     "shell.execute_reply": "2022-09-14T15:36:22.783803Z",
     "shell.execute_reply.started": "2022-09-14T15:36:22.766324Z"
    }
   },
   "outputs": [],
   "source": [
    "train_story_text = []\n",
    "train_question_text = []\n",
    "train_answers = []\n",
    "\n",
    "for story,question,answer in train_data:\n",
    "    train_story_text.append(story)\n",
    "    train_question_text.append(question)"
   ]
  },
  {
   "cell_type": "code",
   "execution_count": 57,
   "metadata": {
    "execution": {
     "iopub.execute_input": "2022-09-14T15:36:22.788209Z",
     "iopub.status.busy": "2022-09-14T15:36:22.787442Z",
     "iopub.status.idle": "2022-09-14T15:36:23.002273Z",
     "shell.execute_reply": "2022-09-14T15:36:23.000833Z",
     "shell.execute_reply.started": "2022-09-14T15:36:22.788162Z"
    }
   },
   "outputs": [],
   "source": [
    "train_story_seq = tokenizer.texts_to_sequences(train_story_text)"
   ]
  },
  {
   "cell_type": "code",
   "execution_count": 58,
   "metadata": {
    "execution": {
     "iopub.execute_input": "2022-09-14T15:36:23.004427Z",
     "iopub.status.busy": "2022-09-14T15:36:23.003963Z",
     "iopub.status.idle": "2022-09-14T15:36:23.013030Z",
     "shell.execute_reply": "2022-09-14T15:36:23.011842Z",
     "shell.execute_reply.started": "2022-09-14T15:36:23.004381Z"
    }
   },
   "outputs": [
    {
     "data": {
      "text/plain": [
       "10000"
      ]
     },
     "execution_count": 58,
     "metadata": {},
     "output_type": "execute_result"
    }
   ],
   "source": [
    "len(train_story_text)"
   ]
  },
  {
   "cell_type": "code",
   "execution_count": 59,
   "metadata": {
    "execution": {
     "iopub.execute_input": "2022-09-14T15:36:23.015355Z",
     "iopub.status.busy": "2022-09-14T15:36:23.014709Z",
     "iopub.status.idle": "2022-09-14T15:36:23.024972Z",
     "shell.execute_reply": "2022-09-14T15:36:23.023856Z",
     "shell.execute_reply.started": "2022-09-14T15:36:23.015306Z"
    }
   },
   "outputs": [
    {
     "data": {
      "text/plain": [
       "10000"
      ]
     },
     "execution_count": 59,
     "metadata": {},
     "output_type": "execute_result"
    }
   ],
   "source": [
    "len(train_story_seq)"
   ]
  },
  {
   "cell_type": "code",
   "execution_count": 60,
   "metadata": {
    "execution": {
     "iopub.execute_input": "2022-09-14T15:36:23.027444Z",
     "iopub.status.busy": "2022-09-14T15:36:23.026712Z",
     "iopub.status.idle": "2022-09-14T15:36:23.039027Z",
     "shell.execute_reply": "2022-09-14T15:36:23.038097Z",
     "shell.execute_reply.started": "2022-09-14T15:36:23.027396Z"
    }
   },
   "outputs": [],
   "source": [
    "def vectorize_stories(data, word_index=tokenizer.word_index, max_story_len=max_story_len,max_question_len=max_question_len):\n",
    "\n",
    "    \n",
    "\n",
    "    X = []\n",
    "\n",
    "    Xq = []\n",
    "\n",
    "    Y = []\n",
    "    \n",
    "    \n",
    "    for story, query, answer in data:\n",
    "        \n",
    "\n",
    "        x = [word_index[word.lower()] for word in story]\n",
    "\n",
    "        xq = [word_index[word.lower()] for word in query]\n",
    "        \n",
    "        y = np.zeros(len(word_index) + 1)\n",
    "        \n",
    "        \n",
    "        y[word_index[answer]] = 1\n",
    "        \n",
    "        X.append(x)\n",
    "        Xq.append(xq)\n",
    "        Y.append(y)\n",
    "        \n",
    "\n",
    "    return (pad_sequences(X, maxlen=max_story_len),pad_sequences(Xq, maxlen=max_question_len), np.array(Y))"
   ]
  },
  {
   "cell_type": "code",
   "execution_count": 61,
   "metadata": {
    "execution": {
     "iopub.execute_input": "2022-09-14T15:36:23.042457Z",
     "iopub.status.busy": "2022-09-14T15:36:23.041874Z",
     "iopub.status.idle": "2022-09-14T15:36:23.346170Z",
     "shell.execute_reply": "2022-09-14T15:36:23.345185Z",
     "shell.execute_reply.started": "2022-09-14T15:36:23.042414Z"
    }
   },
   "outputs": [],
   "source": [
    "inputs_train, queries_train, answers_train = vectorize_stories(train_data)"
   ]
  },
  {
   "cell_type": "code",
   "execution_count": 62,
   "metadata": {
    "execution": {
     "iopub.execute_input": "2022-09-14T15:36:23.348184Z",
     "iopub.status.busy": "2022-09-14T15:36:23.347545Z",
     "iopub.status.idle": "2022-09-14T15:36:23.379960Z",
     "shell.execute_reply": "2022-09-14T15:36:23.378879Z",
     "shell.execute_reply.started": "2022-09-14T15:36:23.348138Z"
    }
   },
   "outputs": [],
   "source": [
    "inputs_test, queries_test, answers_test = vectorize_stories(test_data)"
   ]
  },
  {
   "cell_type": "code",
   "execution_count": 63,
   "metadata": {
    "execution": {
     "iopub.execute_input": "2022-09-14T15:36:23.382073Z",
     "iopub.status.busy": "2022-09-14T15:36:23.381663Z",
     "iopub.status.idle": "2022-09-14T15:36:23.391057Z",
     "shell.execute_reply": "2022-09-14T15:36:23.389925Z",
     "shell.execute_reply.started": "2022-09-14T15:36:23.382028Z"
    }
   },
   "outputs": [
    {
     "data": {
      "text/plain": [
       "array([[ 0,  0,  0, ...,  9, 15, 30],\n",
       "       [ 0,  0,  0, ...,  9, 14, 30],\n",
       "       [ 0,  0,  0, ...,  9, 14, 30],\n",
       "       ...,\n",
       "       [ 0,  0,  0, ...,  9, 33, 30],\n",
       "       [ 0,  0,  0, ...,  9, 14, 30],\n",
       "       [ 0,  0,  0, ..., 33, 21, 30]])"
      ]
     },
     "execution_count": 63,
     "metadata": {},
     "output_type": "execute_result"
    }
   ],
   "source": [
    "inputs_test"
   ]
  },
  {
   "cell_type": "code",
   "execution_count": 64,
   "metadata": {
    "execution": {
     "iopub.execute_input": "2022-09-14T15:36:23.393613Z",
     "iopub.status.busy": "2022-09-14T15:36:23.393069Z",
     "iopub.status.idle": "2022-09-14T15:36:23.422199Z",
     "shell.execute_reply": "2022-09-14T15:36:23.421260Z",
     "shell.execute_reply.started": "2022-09-14T15:36:23.393580Z"
    }
   },
   "outputs": [
    {
     "data": {
      "text/plain": [
       "array([[32, 34, 12,  9,  3, 24],\n",
       "       [32, 34, 12,  9,  3, 24],\n",
       "       [32, 34, 12,  9, 14, 24],\n",
       "       ...,\n",
       "       [32,  7, 12,  9, 15, 24],\n",
       "       [32,  2, 12,  9, 14, 24],\n",
       "       [32,  7, 12,  9, 14, 24]])"
      ]
     },
     "execution_count": 64,
     "metadata": {},
     "output_type": "execute_result"
    }
   ],
   "source": [
    "queries_test"
   ]
  },
  {
   "cell_type": "code",
   "execution_count": 65,
   "metadata": {
    "execution": {
     "iopub.execute_input": "2022-09-14T15:36:23.424607Z",
     "iopub.status.busy": "2022-09-14T15:36:23.424132Z",
     "iopub.status.idle": "2022-09-14T15:36:23.437072Z",
     "shell.execute_reply": "2022-09-14T15:36:23.435585Z",
     "shell.execute_reply.started": "2022-09-14T15:36:23.424564Z"
    }
   },
   "outputs": [
    {
     "data": {
      "text/plain": [
       "array([[0., 0., 0., ..., 0., 0., 0.],\n",
       "       [0., 0., 0., ..., 0., 0., 0.],\n",
       "       [0., 0., 0., ..., 0., 0., 0.],\n",
       "       ...,\n",
       "       [0., 0., 0., ..., 0., 0., 0.],\n",
       "       [0., 0., 0., ..., 0., 0., 0.],\n",
       "       [0., 0., 0., ..., 0., 0., 0.]])"
      ]
     },
     "execution_count": 65,
     "metadata": {},
     "output_type": "execute_result"
    }
   ],
   "source": [
    "answers_test"
   ]
  },
  {
   "cell_type": "code",
   "execution_count": 66,
   "metadata": {
    "execution": {
     "iopub.execute_input": "2022-09-14T15:36:23.439171Z",
     "iopub.status.busy": "2022-09-14T15:36:23.438555Z",
     "iopub.status.idle": "2022-09-14T15:36:23.450885Z",
     "shell.execute_reply": "2022-09-14T15:36:23.449964Z",
     "shell.execute_reply.started": "2022-09-14T15:36:23.439125Z"
    }
   },
   "outputs": [
    {
     "data": {
      "text/plain": [
       "array([  0.,   0.,   0.,   0.,   0.,   0.,   0.,   0.,   0.,   0., 497.,\n",
       "         0.,   0.,   0.,   0.,   0.,   0.,   0.,   0.,   0.,   0.,   0.,\n",
       "         0.,   0.,   0., 503.,   0.,   0.,   0.,   0.,   0.,   0.,   0.,\n",
       "         0.,   0.,   0.,   0.,   0.])"
      ]
     },
     "execution_count": 66,
     "metadata": {},
     "output_type": "execute_result"
    }
   ],
   "source": [
    "sum(answers_test)"
   ]
  },
  {
   "cell_type": "code",
   "execution_count": 67,
   "metadata": {
    "execution": {
     "iopub.execute_input": "2022-09-14T15:36:23.453868Z",
     "iopub.status.busy": "2022-09-14T15:36:23.453360Z",
     "iopub.status.idle": "2022-09-14T15:36:23.462190Z",
     "shell.execute_reply": "2022-09-14T15:36:23.461234Z",
     "shell.execute_reply.started": "2022-09-14T15:36:23.453824Z"
    }
   },
   "outputs": [
    {
     "data": {
      "text/plain": [
       "10"
      ]
     },
     "execution_count": 67,
     "metadata": {},
     "output_type": "execute_result"
    }
   ],
   "source": [
    "tokenizer.word_index['yes']"
   ]
  },
  {
   "cell_type": "code",
   "execution_count": 68,
   "metadata": {
    "execution": {
     "iopub.execute_input": "2022-09-14T15:36:23.466642Z",
     "iopub.status.busy": "2022-09-14T15:36:23.465982Z",
     "iopub.status.idle": "2022-09-14T15:36:23.474579Z",
     "shell.execute_reply": "2022-09-14T15:36:23.473676Z",
     "shell.execute_reply.started": "2022-09-14T15:36:23.466567Z"
    }
   },
   "outputs": [
    {
     "data": {
      "text/plain": [
       "25"
      ]
     },
     "execution_count": 68,
     "metadata": {},
     "output_type": "execute_result"
    }
   ],
   "source": [
    "tokenizer.word_index['no']"
   ]
  },
  {
   "cell_type": "code",
   "execution_count": 69,
   "metadata": {
    "execution": {
     "iopub.execute_input": "2022-09-14T15:36:23.476749Z",
     "iopub.status.busy": "2022-09-14T15:36:23.476059Z",
     "iopub.status.idle": "2022-09-14T15:36:23.510840Z",
     "shell.execute_reply": "2022-09-14T15:36:23.484307Z",
     "shell.execute_reply.started": "2022-09-14T15:36:23.476705Z"
    }
   },
   "outputs": [],
   "source": [
    "from keras.models import Sequential, Model\n",
    "from keras.layers import Embedding\n",
    "from keras.layers import Input, Activation, Dense, Permute, Dropout\n",
    "from keras.layers import add, dot, concatenate\n",
    "from keras.layers import LSTM"
   ]
  },
  {
   "cell_type": "code",
   "execution_count": 70,
   "metadata": {
    "execution": {
     "iopub.execute_input": "2022-09-14T15:36:23.513351Z",
     "iopub.status.busy": "2022-09-14T15:36:23.512669Z",
     "iopub.status.idle": "2022-09-14T15:36:23.532975Z",
     "shell.execute_reply": "2022-09-14T15:36:23.532026Z",
     "shell.execute_reply.started": "2022-09-14T15:36:23.513303Z"
    }
   },
   "outputs": [],
   "source": [
    "input_sequence = Input((max_story_len,))\n",
    "question = Input((max_question_len,))"
   ]
  },
  {
   "cell_type": "code",
   "execution_count": 71,
   "metadata": {
    "execution": {
     "iopub.execute_input": "2022-09-14T15:36:23.534779Z",
     "iopub.status.busy": "2022-09-14T15:36:23.534365Z",
     "iopub.status.idle": "2022-09-14T15:36:23.606154Z",
     "shell.execute_reply": "2022-09-14T15:36:23.604938Z",
     "shell.execute_reply.started": "2022-09-14T15:36:23.534735Z"
    }
   },
   "outputs": [],
   "source": [
    "input_encoder_m = Sequential()\n",
    "input_encoder_m.add(Embedding(input_dim=vocab_size,output_dim=64))\n",
    "input_encoder_m.add(Dropout(0.3))\n"
   ]
  },
  {
   "cell_type": "code",
   "execution_count": 72,
   "metadata": {
    "execution": {
     "iopub.execute_input": "2022-09-14T15:36:23.608550Z",
     "iopub.status.busy": "2022-09-14T15:36:23.608087Z",
     "iopub.status.idle": "2022-09-14T15:36:23.632057Z",
     "shell.execute_reply": "2022-09-14T15:36:23.631170Z",
     "shell.execute_reply.started": "2022-09-14T15:36:23.608494Z"
    }
   },
   "outputs": [],
   "source": [
    "input_encoder_c = Sequential()\n",
    "input_encoder_c.add(Embedding(input_dim=vocab_size,output_dim=max_question_len))\n",
    "input_encoder_c.add(Dropout(0.3))\n"
   ]
  },
  {
   "cell_type": "code",
   "execution_count": 73,
   "metadata": {
    "execution": {
     "iopub.execute_input": "2022-09-14T15:36:23.635276Z",
     "iopub.status.busy": "2022-09-14T15:36:23.634847Z",
     "iopub.status.idle": "2022-09-14T15:36:23.655123Z",
     "shell.execute_reply": "2022-09-14T15:36:23.654313Z",
     "shell.execute_reply.started": "2022-09-14T15:36:23.635232Z"
    }
   },
   "outputs": [
    {
     "name": "stderr",
     "output_type": "stream",
     "text": [
      "c:\\Users\\hp\\AppData\\Local\\Programs\\Python\\Python312\\Lib\\site-packages\\keras\\src\\layers\\core\\embedding.py:90: UserWarning: Argument `input_length` is deprecated. Just remove it.\n",
      "  warnings.warn(\n"
     ]
    }
   ],
   "source": [
    "question_encoder = Sequential()\n",
    "question_encoder.add(Embedding(input_dim=vocab_size,\n",
    "                               output_dim=64,\n",
    "                               input_length=max_question_len))\n",
    "question_encoder.add(Dropout(0.3))\n"
   ]
  },
  {
   "cell_type": "code",
   "execution_count": 74,
   "metadata": {
    "execution": {
     "iopub.execute_input": "2022-09-14T15:36:23.657137Z",
     "iopub.status.busy": "2022-09-14T15:36:23.656719Z",
     "iopub.status.idle": "2022-09-14T15:36:23.681083Z",
     "shell.execute_reply": "2022-09-14T15:36:23.680107Z",
     "shell.execute_reply.started": "2022-09-14T15:36:23.657094Z"
    }
   },
   "outputs": [],
   "source": [
    "\n",
    "input_encoded_m = input_encoder_m(input_sequence)\n",
    "input_encoded_c = input_encoder_c(input_sequence)\n",
    "question_encoded = question_encoder(question)"
   ]
  },
  {
   "cell_type": "code",
   "execution_count": 75,
   "metadata": {
    "execution": {
     "iopub.execute_input": "2022-09-14T15:36:23.684221Z",
     "iopub.status.busy": "2022-09-14T15:36:23.683785Z",
     "iopub.status.idle": "2022-09-14T15:36:23.714581Z",
     "shell.execute_reply": "2022-09-14T15:36:23.713749Z",
     "shell.execute_reply.started": "2022-09-14T15:36:23.684179Z"
    }
   },
   "outputs": [],
   "source": [
    "\n",
    "match = dot([input_encoded_m, question_encoded], axes=(2, 2))\n",
    "match = Activation('softmax')(match)"
   ]
  },
  {
   "cell_type": "code",
   "execution_count": 76,
   "metadata": {
    "execution": {
     "iopub.execute_input": "2022-09-14T15:36:23.716875Z",
     "iopub.status.busy": "2022-09-14T15:36:23.716151Z",
     "iopub.status.idle": "2022-09-14T15:36:23.730918Z",
     "shell.execute_reply": "2022-09-14T15:36:23.729768Z",
     "shell.execute_reply.started": "2022-09-14T15:36:23.716830Z"
    }
   },
   "outputs": [],
   "source": [
    "response = add([match, input_encoded_c])  # (samples, story_maxlen, query_maxlen)\n",
    "response = Permute((2, 1))(response)  # (samples, query_maxlen, story_maxlen)"
   ]
  },
  {
   "cell_type": "code",
   "execution_count": 77,
   "metadata": {
    "execution": {
     "iopub.execute_input": "2022-09-14T15:36:23.733272Z",
     "iopub.status.busy": "2022-09-14T15:36:23.732550Z",
     "iopub.status.idle": "2022-09-14T15:36:23.743876Z",
     "shell.execute_reply": "2022-09-14T15:36:23.742894Z",
     "shell.execute_reply.started": "2022-09-14T15:36:23.733228Z"
    }
   },
   "outputs": [],
   "source": [
    "answer = concatenate([response, question_encoded])"
   ]
  },
  {
   "cell_type": "code",
   "execution_count": 78,
   "metadata": {
    "execution": {
     "iopub.execute_input": "2022-09-14T15:36:23.746009Z",
     "iopub.status.busy": "2022-09-14T15:36:23.745540Z",
     "iopub.status.idle": "2022-09-14T15:36:23.754922Z",
     "shell.execute_reply": "2022-09-14T15:36:23.753772Z",
     "shell.execute_reply.started": "2022-09-14T15:36:23.745968Z"
    }
   },
   "outputs": [
    {
     "data": {
      "text/plain": [
       "<KerasTensor shape=(None, 6, 220), dtype=float32, sparse=False, name=keras_tensor_18>"
      ]
     },
     "execution_count": 78,
     "metadata": {},
     "output_type": "execute_result"
    }
   ],
   "source": [
    "answer"
   ]
  },
  {
   "cell_type": "code",
   "execution_count": 79,
   "metadata": {
    "execution": {
     "iopub.execute_input": "2022-09-14T15:36:23.757814Z",
     "iopub.status.busy": "2022-09-14T15:36:23.757286Z",
     "iopub.status.idle": "2022-09-14T15:36:24.065813Z",
     "shell.execute_reply": "2022-09-14T15:36:24.064465Z",
     "shell.execute_reply.started": "2022-09-14T15:36:23.757767Z"
    }
   },
   "outputs": [],
   "source": [
    "answer = LSTM(32)(answer) "
   ]
  },
  {
   "cell_type": "code",
   "execution_count": 80,
   "metadata": {
    "execution": {
     "iopub.execute_input": "2022-09-14T15:36:24.067962Z",
     "iopub.status.busy": "2022-09-14T15:36:24.067526Z",
     "iopub.status.idle": "2022-09-14T15:36:24.085142Z",
     "shell.execute_reply": "2022-09-14T15:36:24.084220Z",
     "shell.execute_reply.started": "2022-09-14T15:36:24.067918Z"
    }
   },
   "outputs": [],
   "source": [
    "\n",
    "answer = Dropout(0.5)(answer)\n",
    "answer = Dense(vocab_size)(answer)"
   ]
  },
  {
   "cell_type": "code",
   "execution_count": 81,
   "metadata": {
    "execution": {
     "iopub.execute_input": "2022-09-14T15:36:24.087625Z",
     "iopub.status.busy": "2022-09-14T15:36:24.086835Z",
     "iopub.status.idle": "2022-09-14T15:36:24.124737Z",
     "shell.execute_reply": "2022-09-14T15:36:24.123752Z",
     "shell.execute_reply.started": "2022-09-14T15:36:24.087579Z"
    }
   },
   "outputs": [],
   "source": [
    "\n",
    "answer = Activation('softmax')(answer)\n",
    "\n",
    "\n",
    "model = Model([input_sequence, question], answer)\n",
    "model.compile(optimizer='rmsprop', loss='categorical_crossentropy',\n",
    "              metrics=['accuracy'])"
   ]
  },
  {
   "cell_type": "code",
   "execution_count": 82,
   "metadata": {
    "execution": {
     "iopub.execute_input": "2022-09-14T15:36:24.126540Z",
     "iopub.status.busy": "2022-09-14T15:36:24.126144Z",
     "iopub.status.idle": "2022-09-14T15:36:24.140051Z",
     "shell.execute_reply": "2022-09-14T15:36:24.138948Z",
     "shell.execute_reply.started": "2022-09-14T15:36:24.126496Z"
    }
   },
   "outputs": [
    {
     "data": {
      "text/html": [
       "<pre style=\"white-space:pre;overflow-x:auto;line-height:normal;font-family:Menlo,'DejaVu Sans Mono',consolas,'Courier New',monospace\"><span style=\"font-weight: bold\">Model: \"functional_4\"</span>\n",
       "</pre>\n"
      ],
      "text/plain": [
       "\u001b[1mModel: \"functional_4\"\u001b[0m\n"
      ]
     },
     "metadata": {},
     "output_type": "display_data"
    },
    {
     "data": {
      "text/html": [
       "<pre style=\"white-space:pre;overflow-x:auto;line-height:normal;font-family:Menlo,'DejaVu Sans Mono',consolas,'Courier New',monospace\">┏━━━━━━━━━━━━━━━━━━━━━┳━━━━━━━━━━━━━━━━━━━┳━━━━━━━━━━━━┳━━━━━━━━━━━━━━━━━━━┓\n",
       "┃<span style=\"font-weight: bold\"> Layer (type)        </span>┃<span style=\"font-weight: bold\"> Output Shape      </span>┃<span style=\"font-weight: bold\">    Param # </span>┃<span style=\"font-weight: bold\"> Connected to      </span>┃\n",
       "┡━━━━━━━━━━━━━━━━━━━━━╇━━━━━━━━━━━━━━━━━━━╇━━━━━━━━━━━━╇━━━━━━━━━━━━━━━━━━━┩\n",
       "│ input_layer         │ (<span style=\"color: #00d7ff; text-decoration-color: #00d7ff\">None</span>, <span style=\"color: #00af00; text-decoration-color: #00af00\">156</span>)       │          <span style=\"color: #00af00; text-decoration-color: #00af00\">0</span> │ -                 │\n",
       "│ (<span style=\"color: #0087ff; text-decoration-color: #0087ff\">InputLayer</span>)        │                   │            │                   │\n",
       "├─────────────────────┼───────────────────┼────────────┼───────────────────┤\n",
       "│ input_layer_1       │ (<span style=\"color: #00d7ff; text-decoration-color: #00d7ff\">None</span>, <span style=\"color: #00af00; text-decoration-color: #00af00\">6</span>)         │          <span style=\"color: #00af00; text-decoration-color: #00af00\">0</span> │ -                 │\n",
       "│ (<span style=\"color: #0087ff; text-decoration-color: #0087ff\">InputLayer</span>)        │                   │            │                   │\n",
       "├─────────────────────┼───────────────────┼────────────┼───────────────────┤\n",
       "│ sequential          │ (<span style=\"color: #00d7ff; text-decoration-color: #00d7ff\">None</span>, <span style=\"color: #00af00; text-decoration-color: #00af00\">156</span>, <span style=\"color: #00af00; text-decoration-color: #00af00\">64</span>)   │      <span style=\"color: #00af00; text-decoration-color: #00af00\">2,432</span> │ input_layer[<span style=\"color: #00af00; text-decoration-color: #00af00\">0</span>][<span style=\"color: #00af00; text-decoration-color: #00af00\">0</span>] │\n",
       "│ (<span style=\"color: #0087ff; text-decoration-color: #0087ff\">Sequential</span>)        │                   │            │                   │\n",
       "├─────────────────────┼───────────────────┼────────────┼───────────────────┤\n",
       "│ sequential_2        │ (<span style=\"color: #00d7ff; text-decoration-color: #00d7ff\">None</span>, <span style=\"color: #00af00; text-decoration-color: #00af00\">6</span>, <span style=\"color: #00af00; text-decoration-color: #00af00\">64</span>)     │      <span style=\"color: #00af00; text-decoration-color: #00af00\">2,432</span> │ input_layer_1[<span style=\"color: #00af00; text-decoration-color: #00af00\">0</span>]… │\n",
       "│ (<span style=\"color: #0087ff; text-decoration-color: #0087ff\">Sequential</span>)        │                   │            │                   │\n",
       "├─────────────────────┼───────────────────┼────────────┼───────────────────┤\n",
       "│ dot (<span style=\"color: #0087ff; text-decoration-color: #0087ff\">Dot</span>)           │ (<span style=\"color: #00d7ff; text-decoration-color: #00d7ff\">None</span>, <span style=\"color: #00af00; text-decoration-color: #00af00\">156</span>, <span style=\"color: #00af00; text-decoration-color: #00af00\">6</span>)    │          <span style=\"color: #00af00; text-decoration-color: #00af00\">0</span> │ sequential[<span style=\"color: #00af00; text-decoration-color: #00af00\">0</span>][<span style=\"color: #00af00; text-decoration-color: #00af00\">0</span>], │\n",
       "│                     │                   │            │ sequential_2[<span style=\"color: #00af00; text-decoration-color: #00af00\">0</span>][<span style=\"color: #00af00; text-decoration-color: #00af00\">…</span> │\n",
       "├─────────────────────┼───────────────────┼────────────┼───────────────────┤\n",
       "│ activation          │ (<span style=\"color: #00d7ff; text-decoration-color: #00d7ff\">None</span>, <span style=\"color: #00af00; text-decoration-color: #00af00\">156</span>, <span style=\"color: #00af00; text-decoration-color: #00af00\">6</span>)    │          <span style=\"color: #00af00; text-decoration-color: #00af00\">0</span> │ dot[<span style=\"color: #00af00; text-decoration-color: #00af00\">0</span>][<span style=\"color: #00af00; text-decoration-color: #00af00\">0</span>]         │\n",
       "│ (<span style=\"color: #0087ff; text-decoration-color: #0087ff\">Activation</span>)        │                   │            │                   │\n",
       "├─────────────────────┼───────────────────┼────────────┼───────────────────┤\n",
       "│ sequential_1        │ (<span style=\"color: #00d7ff; text-decoration-color: #00d7ff\">None</span>, <span style=\"color: #00af00; text-decoration-color: #00af00\">156</span>, <span style=\"color: #00af00; text-decoration-color: #00af00\">6</span>)    │        <span style=\"color: #00af00; text-decoration-color: #00af00\">228</span> │ input_layer[<span style=\"color: #00af00; text-decoration-color: #00af00\">0</span>][<span style=\"color: #00af00; text-decoration-color: #00af00\">0</span>] │\n",
       "│ (<span style=\"color: #0087ff; text-decoration-color: #0087ff\">Sequential</span>)        │                   │            │                   │\n",
       "├─────────────────────┼───────────────────┼────────────┼───────────────────┤\n",
       "│ add (<span style=\"color: #0087ff; text-decoration-color: #0087ff\">Add</span>)           │ (<span style=\"color: #00d7ff; text-decoration-color: #00d7ff\">None</span>, <span style=\"color: #00af00; text-decoration-color: #00af00\">156</span>, <span style=\"color: #00af00; text-decoration-color: #00af00\">6</span>)    │          <span style=\"color: #00af00; text-decoration-color: #00af00\">0</span> │ activation[<span style=\"color: #00af00; text-decoration-color: #00af00\">0</span>][<span style=\"color: #00af00; text-decoration-color: #00af00\">0</span>], │\n",
       "│                     │                   │            │ sequential_1[<span style=\"color: #00af00; text-decoration-color: #00af00\">0</span>][<span style=\"color: #00af00; text-decoration-color: #00af00\">…</span> │\n",
       "├─────────────────────┼───────────────────┼────────────┼───────────────────┤\n",
       "│ permute (<span style=\"color: #0087ff; text-decoration-color: #0087ff\">Permute</span>)   │ (<span style=\"color: #00d7ff; text-decoration-color: #00d7ff\">None</span>, <span style=\"color: #00af00; text-decoration-color: #00af00\">6</span>, <span style=\"color: #00af00; text-decoration-color: #00af00\">156</span>)    │          <span style=\"color: #00af00; text-decoration-color: #00af00\">0</span> │ add[<span style=\"color: #00af00; text-decoration-color: #00af00\">0</span>][<span style=\"color: #00af00; text-decoration-color: #00af00\">0</span>]         │\n",
       "├─────────────────────┼───────────────────┼────────────┼───────────────────┤\n",
       "│ concatenate         │ (<span style=\"color: #00d7ff; text-decoration-color: #00d7ff\">None</span>, <span style=\"color: #00af00; text-decoration-color: #00af00\">6</span>, <span style=\"color: #00af00; text-decoration-color: #00af00\">220</span>)    │          <span style=\"color: #00af00; text-decoration-color: #00af00\">0</span> │ permute[<span style=\"color: #00af00; text-decoration-color: #00af00\">0</span>][<span style=\"color: #00af00; text-decoration-color: #00af00\">0</span>],    │\n",
       "│ (<span style=\"color: #0087ff; text-decoration-color: #0087ff\">Concatenate</span>)       │                   │            │ sequential_2[<span style=\"color: #00af00; text-decoration-color: #00af00\">0</span>][<span style=\"color: #00af00; text-decoration-color: #00af00\">…</span> │\n",
       "├─────────────────────┼───────────────────┼────────────┼───────────────────┤\n",
       "│ lstm (<span style=\"color: #0087ff; text-decoration-color: #0087ff\">LSTM</span>)         │ (<span style=\"color: #00d7ff; text-decoration-color: #00d7ff\">None</span>, <span style=\"color: #00af00; text-decoration-color: #00af00\">32</span>)        │     <span style=\"color: #00af00; text-decoration-color: #00af00\">32,384</span> │ concatenate[<span style=\"color: #00af00; text-decoration-color: #00af00\">0</span>][<span style=\"color: #00af00; text-decoration-color: #00af00\">0</span>] │\n",
       "├─────────────────────┼───────────────────┼────────────┼───────────────────┤\n",
       "│ dropout_3 (<span style=\"color: #0087ff; text-decoration-color: #0087ff\">Dropout</span>) │ (<span style=\"color: #00d7ff; text-decoration-color: #00d7ff\">None</span>, <span style=\"color: #00af00; text-decoration-color: #00af00\">32</span>)        │          <span style=\"color: #00af00; text-decoration-color: #00af00\">0</span> │ lstm[<span style=\"color: #00af00; text-decoration-color: #00af00\">0</span>][<span style=\"color: #00af00; text-decoration-color: #00af00\">0</span>]        │\n",
       "├─────────────────────┼───────────────────┼────────────┼───────────────────┤\n",
       "│ dense (<span style=\"color: #0087ff; text-decoration-color: #0087ff\">Dense</span>)       │ (<span style=\"color: #00d7ff; text-decoration-color: #00d7ff\">None</span>, <span style=\"color: #00af00; text-decoration-color: #00af00\">38</span>)        │      <span style=\"color: #00af00; text-decoration-color: #00af00\">1,254</span> │ dropout_3[<span style=\"color: #00af00; text-decoration-color: #00af00\">0</span>][<span style=\"color: #00af00; text-decoration-color: #00af00\">0</span>]   │\n",
       "├─────────────────────┼───────────────────┼────────────┼───────────────────┤\n",
       "│ activation_1        │ (<span style=\"color: #00d7ff; text-decoration-color: #00d7ff\">None</span>, <span style=\"color: #00af00; text-decoration-color: #00af00\">38</span>)        │          <span style=\"color: #00af00; text-decoration-color: #00af00\">0</span> │ dense[<span style=\"color: #00af00; text-decoration-color: #00af00\">0</span>][<span style=\"color: #00af00; text-decoration-color: #00af00\">0</span>]       │\n",
       "│ (<span style=\"color: #0087ff; text-decoration-color: #0087ff\">Activation</span>)        │                   │            │                   │\n",
       "└─────────────────────┴───────────────────┴────────────┴───────────────────┘\n",
       "</pre>\n"
      ],
      "text/plain": [
       "┏━━━━━━━━━━━━━━━━━━━━━┳━━━━━━━━━━━━━━━━━━━┳━━━━━━━━━━━━┳━━━━━━━━━━━━━━━━━━━┓\n",
       "┃\u001b[1m \u001b[0m\u001b[1mLayer (type)       \u001b[0m\u001b[1m \u001b[0m┃\u001b[1m \u001b[0m\u001b[1mOutput Shape     \u001b[0m\u001b[1m \u001b[0m┃\u001b[1m \u001b[0m\u001b[1m   Param #\u001b[0m\u001b[1m \u001b[0m┃\u001b[1m \u001b[0m\u001b[1mConnected to     \u001b[0m\u001b[1m \u001b[0m┃\n",
       "┡━━━━━━━━━━━━━━━━━━━━━╇━━━━━━━━━━━━━━━━━━━╇━━━━━━━━━━━━╇━━━━━━━━━━━━━━━━━━━┩\n",
       "│ input_layer         │ (\u001b[38;5;45mNone\u001b[0m, \u001b[38;5;34m156\u001b[0m)       │          \u001b[38;5;34m0\u001b[0m │ -                 │\n",
       "│ (\u001b[38;5;33mInputLayer\u001b[0m)        │                   │            │                   │\n",
       "├─────────────────────┼───────────────────┼────────────┼───────────────────┤\n",
       "│ input_layer_1       │ (\u001b[38;5;45mNone\u001b[0m, \u001b[38;5;34m6\u001b[0m)         │          \u001b[38;5;34m0\u001b[0m │ -                 │\n",
       "│ (\u001b[38;5;33mInputLayer\u001b[0m)        │                   │            │                   │\n",
       "├─────────────────────┼───────────────────┼────────────┼───────────────────┤\n",
       "│ sequential          │ (\u001b[38;5;45mNone\u001b[0m, \u001b[38;5;34m156\u001b[0m, \u001b[38;5;34m64\u001b[0m)   │      \u001b[38;5;34m2,432\u001b[0m │ input_layer[\u001b[38;5;34m0\u001b[0m][\u001b[38;5;34m0\u001b[0m] │\n",
       "│ (\u001b[38;5;33mSequential\u001b[0m)        │                   │            │                   │\n",
       "├─────────────────────┼───────────────────┼────────────┼───────────────────┤\n",
       "│ sequential_2        │ (\u001b[38;5;45mNone\u001b[0m, \u001b[38;5;34m6\u001b[0m, \u001b[38;5;34m64\u001b[0m)     │      \u001b[38;5;34m2,432\u001b[0m │ input_layer_1[\u001b[38;5;34m0\u001b[0m]… │\n",
       "│ (\u001b[38;5;33mSequential\u001b[0m)        │                   │            │                   │\n",
       "├─────────────────────┼───────────────────┼────────────┼───────────────────┤\n",
       "│ dot (\u001b[38;5;33mDot\u001b[0m)           │ (\u001b[38;5;45mNone\u001b[0m, \u001b[38;5;34m156\u001b[0m, \u001b[38;5;34m6\u001b[0m)    │          \u001b[38;5;34m0\u001b[0m │ sequential[\u001b[38;5;34m0\u001b[0m][\u001b[38;5;34m0\u001b[0m], │\n",
       "│                     │                   │            │ sequential_2[\u001b[38;5;34m0\u001b[0m][\u001b[38;5;34m…\u001b[0m │\n",
       "├─────────────────────┼───────────────────┼────────────┼───────────────────┤\n",
       "│ activation          │ (\u001b[38;5;45mNone\u001b[0m, \u001b[38;5;34m156\u001b[0m, \u001b[38;5;34m6\u001b[0m)    │          \u001b[38;5;34m0\u001b[0m │ dot[\u001b[38;5;34m0\u001b[0m][\u001b[38;5;34m0\u001b[0m]         │\n",
       "│ (\u001b[38;5;33mActivation\u001b[0m)        │                   │            │                   │\n",
       "├─────────────────────┼───────────────────┼────────────┼───────────────────┤\n",
       "│ sequential_1        │ (\u001b[38;5;45mNone\u001b[0m, \u001b[38;5;34m156\u001b[0m, \u001b[38;5;34m6\u001b[0m)    │        \u001b[38;5;34m228\u001b[0m │ input_layer[\u001b[38;5;34m0\u001b[0m][\u001b[38;5;34m0\u001b[0m] │\n",
       "│ (\u001b[38;5;33mSequential\u001b[0m)        │                   │            │                   │\n",
       "├─────────────────────┼───────────────────┼────────────┼───────────────────┤\n",
       "│ add (\u001b[38;5;33mAdd\u001b[0m)           │ (\u001b[38;5;45mNone\u001b[0m, \u001b[38;5;34m156\u001b[0m, \u001b[38;5;34m6\u001b[0m)    │          \u001b[38;5;34m0\u001b[0m │ activation[\u001b[38;5;34m0\u001b[0m][\u001b[38;5;34m0\u001b[0m], │\n",
       "│                     │                   │            │ sequential_1[\u001b[38;5;34m0\u001b[0m][\u001b[38;5;34m…\u001b[0m │\n",
       "├─────────────────────┼───────────────────┼────────────┼───────────────────┤\n",
       "│ permute (\u001b[38;5;33mPermute\u001b[0m)   │ (\u001b[38;5;45mNone\u001b[0m, \u001b[38;5;34m6\u001b[0m, \u001b[38;5;34m156\u001b[0m)    │          \u001b[38;5;34m0\u001b[0m │ add[\u001b[38;5;34m0\u001b[0m][\u001b[38;5;34m0\u001b[0m]         │\n",
       "├─────────────────────┼───────────────────┼────────────┼───────────────────┤\n",
       "│ concatenate         │ (\u001b[38;5;45mNone\u001b[0m, \u001b[38;5;34m6\u001b[0m, \u001b[38;5;34m220\u001b[0m)    │          \u001b[38;5;34m0\u001b[0m │ permute[\u001b[38;5;34m0\u001b[0m][\u001b[38;5;34m0\u001b[0m],    │\n",
       "│ (\u001b[38;5;33mConcatenate\u001b[0m)       │                   │            │ sequential_2[\u001b[38;5;34m0\u001b[0m][\u001b[38;5;34m…\u001b[0m │\n",
       "├─────────────────────┼───────────────────┼────────────┼───────────────────┤\n",
       "│ lstm (\u001b[38;5;33mLSTM\u001b[0m)         │ (\u001b[38;5;45mNone\u001b[0m, \u001b[38;5;34m32\u001b[0m)        │     \u001b[38;5;34m32,384\u001b[0m │ concatenate[\u001b[38;5;34m0\u001b[0m][\u001b[38;5;34m0\u001b[0m] │\n",
       "├─────────────────────┼───────────────────┼────────────┼───────────────────┤\n",
       "│ dropout_3 (\u001b[38;5;33mDropout\u001b[0m) │ (\u001b[38;5;45mNone\u001b[0m, \u001b[38;5;34m32\u001b[0m)        │          \u001b[38;5;34m0\u001b[0m │ lstm[\u001b[38;5;34m0\u001b[0m][\u001b[38;5;34m0\u001b[0m]        │\n",
       "├─────────────────────┼───────────────────┼────────────┼───────────────────┤\n",
       "│ dense (\u001b[38;5;33mDense\u001b[0m)       │ (\u001b[38;5;45mNone\u001b[0m, \u001b[38;5;34m38\u001b[0m)        │      \u001b[38;5;34m1,254\u001b[0m │ dropout_3[\u001b[38;5;34m0\u001b[0m][\u001b[38;5;34m0\u001b[0m]   │\n",
       "├─────────────────────┼───────────────────┼────────────┼───────────────────┤\n",
       "│ activation_1        │ (\u001b[38;5;45mNone\u001b[0m, \u001b[38;5;34m38\u001b[0m)        │          \u001b[38;5;34m0\u001b[0m │ dense[\u001b[38;5;34m0\u001b[0m][\u001b[38;5;34m0\u001b[0m]       │\n",
       "│ (\u001b[38;5;33mActivation\u001b[0m)        │                   │            │                   │\n",
       "└─────────────────────┴───────────────────┴────────────┴───────────────────┘\n"
      ]
     },
     "metadata": {},
     "output_type": "display_data"
    },
    {
     "data": {
      "text/html": [
       "<pre style=\"white-space:pre;overflow-x:auto;line-height:normal;font-family:Menlo,'DejaVu Sans Mono',consolas,'Courier New',monospace\"><span style=\"font-weight: bold\"> Total params: </span><span style=\"color: #00af00; text-decoration-color: #00af00\">38,730</span> (151.29 KB)\n",
       "</pre>\n"
      ],
      "text/plain": [
       "\u001b[1m Total params: \u001b[0m\u001b[38;5;34m38,730\u001b[0m (151.29 KB)\n"
      ]
     },
     "metadata": {},
     "output_type": "display_data"
    },
    {
     "data": {
      "text/html": [
       "<pre style=\"white-space:pre;overflow-x:auto;line-height:normal;font-family:Menlo,'DejaVu Sans Mono',consolas,'Courier New',monospace\"><span style=\"font-weight: bold\"> Trainable params: </span><span style=\"color: #00af00; text-decoration-color: #00af00\">38,730</span> (151.29 KB)\n",
       "</pre>\n"
      ],
      "text/plain": [
       "\u001b[1m Trainable params: \u001b[0m\u001b[38;5;34m38,730\u001b[0m (151.29 KB)\n"
      ]
     },
     "metadata": {},
     "output_type": "display_data"
    },
    {
     "data": {
      "text/html": [
       "<pre style=\"white-space:pre;overflow-x:auto;line-height:normal;font-family:Menlo,'DejaVu Sans Mono',consolas,'Courier New',monospace\"><span style=\"font-weight: bold\"> Non-trainable params: </span><span style=\"color: #00af00; text-decoration-color: #00af00\">0</span> (0.00 B)\n",
       "</pre>\n"
      ],
      "text/plain": [
       "\u001b[1m Non-trainable params: \u001b[0m\u001b[38;5;34m0\u001b[0m (0.00 B)\n"
      ]
     },
     "metadata": {},
     "output_type": "display_data"
    }
   ],
   "source": [
    "model.summary()"
   ]
  },
  {
   "cell_type": "code",
   "execution_count": 83,
   "metadata": {
    "execution": {
     "iopub.execute_input": "2022-09-14T15:37:13.727785Z",
     "iopub.status.busy": "2022-09-14T15:37:13.727138Z",
     "iopub.status.idle": "2022-09-14T15:46:48.575722Z",
     "shell.execute_reply": "2022-09-14T15:46:48.574767Z",
     "shell.execute_reply.started": "2022-09-14T15:37:13.727733Z"
    }
   },
   "outputs": [
    {
     "name": "stdout",
     "output_type": "stream",
     "text": [
      "Epoch 1/64\n",
      "\u001b[1m625/625\u001b[0m \u001b[32m━━━━━━━━━━━━━━━━━━━━\u001b[0m\u001b[37m\u001b[0m \u001b[1m5s\u001b[0m 5ms/step - accuracy: 0.4850 - loss: 1.0388 - val_accuracy: 0.5030 - val_loss: 0.6934\n",
      "Epoch 2/64\n",
      "\u001b[1m625/625\u001b[0m \u001b[32m━━━━━━━━━━━━━━━━━━━━\u001b[0m\u001b[37m\u001b[0m \u001b[1m3s\u001b[0m 4ms/step - accuracy: 0.5010 - loss: 0.7006 - val_accuracy: 0.4970 - val_loss: 0.6943\n",
      "Epoch 3/64\n",
      "\u001b[1m625/625\u001b[0m \u001b[32m━━━━━━━━━━━━━━━━━━━━\u001b[0m\u001b[37m\u001b[0m \u001b[1m3s\u001b[0m 5ms/step - accuracy: 0.4921 - loss: 0.6965 - val_accuracy: 0.5030 - val_loss: 0.6954\n",
      "Epoch 4/64\n",
      "\u001b[1m625/625\u001b[0m \u001b[32m━━━━━━━━━━━━━━━━━━━━\u001b[0m\u001b[37m\u001b[0m \u001b[1m3s\u001b[0m 5ms/step - accuracy: 0.4901 - loss: 0.6965 - val_accuracy: 0.4970 - val_loss: 0.6934\n",
      "Epoch 5/64\n",
      "\u001b[1m625/625\u001b[0m \u001b[32m━━━━━━━━━━━━━━━━━━━━\u001b[0m\u001b[37m\u001b[0m \u001b[1m3s\u001b[0m 5ms/step - accuracy: 0.4989 - loss: 0.6960 - val_accuracy: 0.5030 - val_loss: 0.6950\n",
      "Epoch 6/64\n",
      "\u001b[1m625/625\u001b[0m \u001b[32m━━━━━━━━━━━━━━━━━━━━\u001b[0m\u001b[37m\u001b[0m \u001b[1m3s\u001b[0m 5ms/step - accuracy: 0.5092 - loss: 0.6952 - val_accuracy: 0.4970 - val_loss: 0.6940\n",
      "Epoch 7/64\n",
      "\u001b[1m625/625\u001b[0m \u001b[32m━━━━━━━━━━━━━━━━━━━━\u001b[0m\u001b[37m\u001b[0m \u001b[1m3s\u001b[0m 5ms/step - accuracy: 0.5114 - loss: 0.6944 - val_accuracy: 0.4970 - val_loss: 0.6934\n",
      "Epoch 8/64\n",
      "\u001b[1m625/625\u001b[0m \u001b[32m━━━━━━━━━━━━━━━━━━━━\u001b[0m\u001b[37m\u001b[0m \u001b[1m3s\u001b[0m 5ms/step - accuracy: 0.4962 - loss: 0.6963 - val_accuracy: 0.4970 - val_loss: 0.6932\n",
      "Epoch 9/64\n",
      "\u001b[1m625/625\u001b[0m \u001b[32m━━━━━━━━━━━━━━━━━━━━\u001b[0m\u001b[37m\u001b[0m \u001b[1m3s\u001b[0m 5ms/step - accuracy: 0.4944 - loss: 0.6966 - val_accuracy: 0.4970 - val_loss: 0.6985\n",
      "Epoch 10/64\n",
      "\u001b[1m625/625\u001b[0m \u001b[32m━━━━━━━━━━━━━━━━━━━━\u001b[0m\u001b[37m\u001b[0m \u001b[1m3s\u001b[0m 4ms/step - accuracy: 0.4877 - loss: 0.6968 - val_accuracy: 0.4970 - val_loss: 0.6937\n",
      "Epoch 11/64\n",
      "\u001b[1m625/625\u001b[0m \u001b[32m━━━━━━━━━━━━━━━━━━━━\u001b[0m\u001b[37m\u001b[0m \u001b[1m3s\u001b[0m 5ms/step - accuracy: 0.5027 - loss: 0.6948 - val_accuracy: 0.5030 - val_loss: 0.6935\n",
      "Epoch 12/64\n",
      "\u001b[1m625/625\u001b[0m \u001b[32m━━━━━━━━━━━━━━━━━━━━\u001b[0m\u001b[37m\u001b[0m \u001b[1m3s\u001b[0m 5ms/step - accuracy: 0.5000 - loss: 0.6958 - val_accuracy: 0.5030 - val_loss: 0.6932\n",
      "Epoch 13/64\n",
      "\u001b[1m625/625\u001b[0m \u001b[32m━━━━━━━━━━━━━━━━━━━━\u001b[0m\u001b[37m\u001b[0m \u001b[1m3s\u001b[0m 5ms/step - accuracy: 0.4966 - loss: 0.6956 - val_accuracy: 0.4980 - val_loss: 0.6931\n",
      "Epoch 14/64\n",
      "\u001b[1m625/625\u001b[0m \u001b[32m━━━━━━━━━━━━━━━━━━━━\u001b[0m\u001b[37m\u001b[0m \u001b[1m3s\u001b[0m 5ms/step - accuracy: 0.4904 - loss: 0.6961 - val_accuracy: 0.4970 - val_loss: 0.6938\n",
      "Epoch 15/64\n",
      "\u001b[1m625/625\u001b[0m \u001b[32m━━━━━━━━━━━━━━━━━━━━\u001b[0m\u001b[37m\u001b[0m \u001b[1m3s\u001b[0m 5ms/step - accuracy: 0.5073 - loss: 0.6949 - val_accuracy: 0.4970 - val_loss: 0.6961\n",
      "Epoch 16/64\n",
      "\u001b[1m625/625\u001b[0m \u001b[32m━━━━━━━━━━━━━━━━━━━━\u001b[0m\u001b[37m\u001b[0m \u001b[1m3s\u001b[0m 4ms/step - accuracy: 0.5090 - loss: 0.6947 - val_accuracy: 0.5030 - val_loss: 0.6932\n",
      "Epoch 17/64\n",
      "\u001b[1m625/625\u001b[0m \u001b[32m━━━━━━━━━━━━━━━━━━━━\u001b[0m\u001b[37m\u001b[0m \u001b[1m3s\u001b[0m 4ms/step - accuracy: 0.4945 - loss: 0.6952 - val_accuracy: 0.5030 - val_loss: 0.6943\n",
      "Epoch 18/64\n",
      "\u001b[1m625/625\u001b[0m \u001b[32m━━━━━━━━━━━━━━━━━━━━\u001b[0m\u001b[37m\u001b[0m \u001b[1m3s\u001b[0m 4ms/step - accuracy: 0.4988 - loss: 0.6959 - val_accuracy: 0.4970 - val_loss: 0.6951\n",
      "Epoch 19/64\n",
      "\u001b[1m625/625\u001b[0m \u001b[32m━━━━━━━━━━━━━━━━━━━━\u001b[0m\u001b[37m\u001b[0m \u001b[1m3s\u001b[0m 4ms/step - accuracy: 0.5006 - loss: 0.6961 - val_accuracy: 0.5030 - val_loss: 0.6936\n",
      "Epoch 20/64\n",
      "\u001b[1m625/625\u001b[0m \u001b[32m━━━━━━━━━━━━━━━━━━━━\u001b[0m\u001b[37m\u001b[0m \u001b[1m3s\u001b[0m 4ms/step - accuracy: 0.5002 - loss: 0.6960 - val_accuracy: 0.4970 - val_loss: 0.6939\n",
      "Epoch 21/64\n",
      "\u001b[1m625/625\u001b[0m \u001b[32m━━━━━━━━━━━━━━━━━━━━\u001b[0m\u001b[37m\u001b[0m \u001b[1m3s\u001b[0m 4ms/step - accuracy: 0.5015 - loss: 0.6951 - val_accuracy: 0.5030 - val_loss: 0.6932\n",
      "Epoch 22/64\n",
      "\u001b[1m625/625\u001b[0m \u001b[32m━━━━━━━━━━━━━━━━━━━━\u001b[0m\u001b[37m\u001b[0m \u001b[1m3s\u001b[0m 4ms/step - accuracy: 0.4893 - loss: 0.6963 - val_accuracy: 0.5030 - val_loss: 0.6941\n",
      "Epoch 23/64\n",
      "\u001b[1m625/625\u001b[0m \u001b[32m━━━━━━━━━━━━━━━━━━━━\u001b[0m\u001b[37m\u001b[0m \u001b[1m3s\u001b[0m 4ms/step - accuracy: 0.5057 - loss: 0.6951 - val_accuracy: 0.4970 - val_loss: 0.6980\n",
      "Epoch 24/64\n",
      "\u001b[1m625/625\u001b[0m \u001b[32m━━━━━━━━━━━━━━━━━━━━\u001b[0m\u001b[37m\u001b[0m \u001b[1m3s\u001b[0m 4ms/step - accuracy: 0.4918 - loss: 0.6958 - val_accuracy: 0.4970 - val_loss: 0.6945\n",
      "Epoch 25/64\n",
      "\u001b[1m625/625\u001b[0m \u001b[32m━━━━━━━━━━━━━━━━━━━━\u001b[0m\u001b[37m\u001b[0m \u001b[1m3s\u001b[0m 4ms/step - accuracy: 0.4968 - loss: 0.6953 - val_accuracy: 0.5030 - val_loss: 0.6933\n",
      "Epoch 26/64\n",
      "\u001b[1m625/625\u001b[0m \u001b[32m━━━━━━━━━━━━━━━━━━━━\u001b[0m\u001b[37m\u001b[0m \u001b[1m3s\u001b[0m 4ms/step - accuracy: 0.4971 - loss: 0.6950 - val_accuracy: 0.5030 - val_loss: 0.6932\n",
      "Epoch 27/64\n",
      "\u001b[1m625/625\u001b[0m \u001b[32m━━━━━━━━━━━━━━━━━━━━\u001b[0m\u001b[37m\u001b[0m \u001b[1m3s\u001b[0m 4ms/step - accuracy: 0.4934 - loss: 0.6953 - val_accuracy: 0.5050 - val_loss: 0.6938\n",
      "Epoch 28/64\n",
      "\u001b[1m625/625\u001b[0m \u001b[32m━━━━━━━━━━━━━━━━━━━━\u001b[0m\u001b[37m\u001b[0m \u001b[1m3s\u001b[0m 4ms/step - accuracy: 0.5049 - loss: 0.6946 - val_accuracy: 0.4960 - val_loss: 0.6939\n",
      "Epoch 29/64\n",
      "\u001b[1m625/625\u001b[0m \u001b[32m━━━━━━━━━━━━━━━━━━━━\u001b[0m\u001b[37m\u001b[0m \u001b[1m3s\u001b[0m 4ms/step - accuracy: 0.5027 - loss: 0.6948 - val_accuracy: 0.5070 - val_loss: 0.6932\n",
      "Epoch 30/64\n",
      "\u001b[1m625/625\u001b[0m \u001b[32m━━━━━━━━━━━━━━━━━━━━\u001b[0m\u001b[37m\u001b[0m \u001b[1m3s\u001b[0m 5ms/step - accuracy: 0.5035 - loss: 0.6942 - val_accuracy: 0.5100 - val_loss: 0.6935\n",
      "Epoch 31/64\n",
      "\u001b[1m625/625\u001b[0m \u001b[32m━━━━━━━━━━━━━━━━━━━━\u001b[0m\u001b[37m\u001b[0m \u001b[1m3s\u001b[0m 5ms/step - accuracy: 0.5037 - loss: 0.6949 - val_accuracy: 0.5160 - val_loss: 0.6938\n",
      "Epoch 32/64\n",
      "\u001b[1m625/625\u001b[0m \u001b[32m━━━━━━━━━━━━━━━━━━━━\u001b[0m\u001b[37m\u001b[0m \u001b[1m3s\u001b[0m 5ms/step - accuracy: 0.5208 - loss: 0.6930 - val_accuracy: 0.5060 - val_loss: 0.6933\n",
      "Epoch 33/64\n",
      "\u001b[1m625/625\u001b[0m \u001b[32m━━━━━━━━━━━━━━━━━━━━\u001b[0m\u001b[37m\u001b[0m \u001b[1m3s\u001b[0m 4ms/step - accuracy: 0.5100 - loss: 0.6940 - val_accuracy: 0.5050 - val_loss: 0.6952\n",
      "Epoch 34/64\n",
      "\u001b[1m625/625\u001b[0m \u001b[32m━━━━━━━━━━━━━━━━━━━━\u001b[0m\u001b[37m\u001b[0m \u001b[1m2s\u001b[0m 4ms/step - accuracy: 0.5193 - loss: 0.6923 - val_accuracy: 0.4940 - val_loss: 0.6957\n",
      "Epoch 35/64\n",
      "\u001b[1m625/625\u001b[0m \u001b[32m━━━━━━━━━━━━━━━━━━━━\u001b[0m\u001b[37m\u001b[0m \u001b[1m3s\u001b[0m 4ms/step - accuracy: 0.5195 - loss: 0.6924 - val_accuracy: 0.5010 - val_loss: 0.6947\n",
      "Epoch 36/64\n",
      "\u001b[1m625/625\u001b[0m \u001b[32m━━━━━━━━━━━━━━━━━━━━\u001b[0m\u001b[37m\u001b[0m \u001b[1m3s\u001b[0m 4ms/step - accuracy: 0.5262 - loss: 0.6938 - val_accuracy: 0.5240 - val_loss: 0.6950\n",
      "Epoch 37/64\n",
      "\u001b[1m625/625\u001b[0m \u001b[32m━━━━━━━━━━━━━━━━━━━━\u001b[0m\u001b[37m\u001b[0m \u001b[1m3s\u001b[0m 4ms/step - accuracy: 0.5282 - loss: 0.6914 - val_accuracy: 0.5010 - val_loss: 0.6932\n",
      "Epoch 38/64\n",
      "\u001b[1m625/625\u001b[0m \u001b[32m━━━━━━━━━━━━━━━━━━━━\u001b[0m\u001b[37m\u001b[0m \u001b[1m3s\u001b[0m 4ms/step - accuracy: 0.5371 - loss: 0.6887 - val_accuracy: 0.5480 - val_loss: 0.6771\n",
      "Epoch 39/64\n",
      "\u001b[1m625/625\u001b[0m \u001b[32m━━━━━━━━━━━━━━━━━━━━\u001b[0m\u001b[37m\u001b[0m \u001b[1m3s\u001b[0m 4ms/step - accuracy: 0.5834 - loss: 0.6709 - val_accuracy: 0.6580 - val_loss: 0.6341\n",
      "Epoch 40/64\n",
      "\u001b[1m625/625\u001b[0m \u001b[32m━━━━━━━━━━━━━━━━━━━━\u001b[0m\u001b[37m\u001b[0m \u001b[1m2s\u001b[0m 4ms/step - accuracy: 0.6342 - loss: 0.6424 - val_accuracy: 0.6870 - val_loss: 0.6109\n",
      "Epoch 41/64\n",
      "\u001b[1m625/625\u001b[0m \u001b[32m━━━━━━━━━━━━━━━━━━━━\u001b[0m\u001b[37m\u001b[0m \u001b[1m3s\u001b[0m 4ms/step - accuracy: 0.6602 - loss: 0.6239 - val_accuracy: 0.6910 - val_loss: 0.6014\n",
      "Epoch 42/64\n",
      "\u001b[1m625/625\u001b[0m \u001b[32m━━━━━━━━━━━━━━━━━━━━\u001b[0m\u001b[37m\u001b[0m \u001b[1m2s\u001b[0m 4ms/step - accuracy: 0.6821 - loss: 0.6053 - val_accuracy: 0.7100 - val_loss: 0.5925\n",
      "Epoch 43/64\n",
      "\u001b[1m625/625\u001b[0m \u001b[32m━━━━━━━━━━━━━━━━━━━━\u001b[0m\u001b[37m\u001b[0m \u001b[1m3s\u001b[0m 4ms/step - accuracy: 0.6875 - loss: 0.6012 - val_accuracy: 0.7240 - val_loss: 0.5789\n",
      "Epoch 44/64\n",
      "\u001b[1m625/625\u001b[0m \u001b[32m━━━━━━━━━━━━━━━━━━━━\u001b[0m\u001b[37m\u001b[0m \u001b[1m3s\u001b[0m 4ms/step - accuracy: 0.6879 - loss: 0.6022 - val_accuracy: 0.7270 - val_loss: 0.5655\n",
      "Epoch 45/64\n",
      "\u001b[1m625/625\u001b[0m \u001b[32m━━━━━━━━━━━━━━━━━━━━\u001b[0m\u001b[37m\u001b[0m \u001b[1m3s\u001b[0m 4ms/step - accuracy: 0.7047 - loss: 0.5835 - val_accuracy: 0.7280 - val_loss: 0.5589\n",
      "Epoch 46/64\n",
      "\u001b[1m625/625\u001b[0m \u001b[32m━━━━━━━━━━━━━━━━━━━━\u001b[0m\u001b[37m\u001b[0m \u001b[1m3s\u001b[0m 4ms/step - accuracy: 0.7199 - loss: 0.5627 - val_accuracy: 0.7440 - val_loss: 0.5265\n",
      "Epoch 47/64\n",
      "\u001b[1m625/625\u001b[0m \u001b[32m━━━━━━━━━━━━━━━━━━━━\u001b[0m\u001b[37m\u001b[0m \u001b[1m3s\u001b[0m 4ms/step - accuracy: 0.7333 - loss: 0.5494 - val_accuracy: 0.7630 - val_loss: 0.5007\n",
      "Epoch 48/64\n",
      "\u001b[1m625/625\u001b[0m \u001b[32m━━━━━━━━━━━━━━━━━━━━\u001b[0m\u001b[37m\u001b[0m \u001b[1m3s\u001b[0m 4ms/step - accuracy: 0.7579 - loss: 0.5174 - val_accuracy: 0.7850 - val_loss: 0.4719\n",
      "Epoch 49/64\n",
      "\u001b[1m625/625\u001b[0m \u001b[32m━━━━━━━━━━━━━━━━━━━━\u001b[0m\u001b[37m\u001b[0m \u001b[1m3s\u001b[0m 4ms/step - accuracy: 0.7631 - loss: 0.5057 - val_accuracy: 0.7830 - val_loss: 0.4632\n",
      "Epoch 50/64\n",
      "\u001b[1m625/625\u001b[0m \u001b[32m━━━━━━━━━━━━━━━━━━━━\u001b[0m\u001b[37m\u001b[0m \u001b[1m3s\u001b[0m 4ms/step - accuracy: 0.7842 - loss: 0.4748 - val_accuracy: 0.7820 - val_loss: 0.4639\n",
      "Epoch 51/64\n",
      "\u001b[1m625/625\u001b[0m \u001b[32m━━━━━━━━━━━━━━━━━━━━\u001b[0m\u001b[37m\u001b[0m \u001b[1m3s\u001b[0m 4ms/step - accuracy: 0.7894 - loss: 0.4642 - val_accuracy: 0.7950 - val_loss: 0.4455\n",
      "Epoch 52/64\n",
      "\u001b[1m625/625\u001b[0m \u001b[32m━━━━━━━━━━━━━━━━━━━━\u001b[0m\u001b[37m\u001b[0m \u001b[1m3s\u001b[0m 4ms/step - accuracy: 0.7984 - loss: 0.4463 - val_accuracy: 0.8020 - val_loss: 0.4299\n",
      "Epoch 53/64\n",
      "\u001b[1m625/625\u001b[0m \u001b[32m━━━━━━━━━━━━━━━━━━━━\u001b[0m\u001b[37m\u001b[0m \u001b[1m3s\u001b[0m 4ms/step - accuracy: 0.8014 - loss: 0.4406 - val_accuracy: 0.8020 - val_loss: 0.4202\n",
      "Epoch 54/64\n",
      "\u001b[1m625/625\u001b[0m \u001b[32m━━━━━━━━━━━━━━━━━━━━\u001b[0m\u001b[37m\u001b[0m \u001b[1m3s\u001b[0m 4ms/step - accuracy: 0.8070 - loss: 0.4314 - val_accuracy: 0.8090 - val_loss: 0.4169\n",
      "Epoch 55/64\n",
      "\u001b[1m625/625\u001b[0m \u001b[32m━━━━━━━━━━━━━━━━━━━━\u001b[0m\u001b[37m\u001b[0m \u001b[1m3s\u001b[0m 4ms/step - accuracy: 0.8258 - loss: 0.4058 - val_accuracy: 0.8230 - val_loss: 0.4066\n",
      "Epoch 56/64\n",
      "\u001b[1m625/625\u001b[0m \u001b[32m━━━━━━━━━━━━━━━━━━━━\u001b[0m\u001b[37m\u001b[0m \u001b[1m3s\u001b[0m 4ms/step - accuracy: 0.8253 - loss: 0.3980 - val_accuracy: 0.8140 - val_loss: 0.4013\n",
      "Epoch 57/64\n",
      "\u001b[1m625/625\u001b[0m \u001b[32m━━━━━━━━━━━━━━━━━━━━\u001b[0m\u001b[37m\u001b[0m \u001b[1m3s\u001b[0m 4ms/step - accuracy: 0.8320 - loss: 0.3889 - val_accuracy: 0.8160 - val_loss: 0.4139\n",
      "Epoch 58/64\n",
      "\u001b[1m625/625\u001b[0m \u001b[32m━━━━━━━━━━━━━━━━━━━━\u001b[0m\u001b[37m\u001b[0m \u001b[1m3s\u001b[0m 4ms/step - accuracy: 0.8338 - loss: 0.3744 - val_accuracy: 0.8180 - val_loss: 0.3940\n",
      "Epoch 59/64\n",
      "\u001b[1m625/625\u001b[0m \u001b[32m━━━━━━━━━━━━━━━━━━━━\u001b[0m\u001b[37m\u001b[0m \u001b[1m3s\u001b[0m 4ms/step - accuracy: 0.8323 - loss: 0.3741 - val_accuracy: 0.8180 - val_loss: 0.4017\n",
      "Epoch 60/64\n",
      "\u001b[1m625/625\u001b[0m \u001b[32m━━━━━━━━━━━━━━━━━━━━\u001b[0m\u001b[37m\u001b[0m \u001b[1m3s\u001b[0m 4ms/step - accuracy: 0.8457 - loss: 0.3557 - val_accuracy: 0.8280 - val_loss: 0.3780\n",
      "Epoch 61/64\n",
      "\u001b[1m625/625\u001b[0m \u001b[32m━━━━━━━━━━━━━━━━━━━━\u001b[0m\u001b[37m\u001b[0m \u001b[1m3s\u001b[0m 4ms/step - accuracy: 0.8345 - loss: 0.3683 - val_accuracy: 0.8090 - val_loss: 0.4233\n",
      "Epoch 62/64\n",
      "\u001b[1m625/625\u001b[0m \u001b[32m━━━━━━━━━━━━━━━━━━━━\u001b[0m\u001b[37m\u001b[0m \u001b[1m3s\u001b[0m 4ms/step - accuracy: 0.8428 - loss: 0.3634 - val_accuracy: 0.8110 - val_loss: 0.3777\n",
      "Epoch 63/64\n",
      "\u001b[1m625/625\u001b[0m \u001b[32m━━━━━━━━━━━━━━━━━━━━\u001b[0m\u001b[37m\u001b[0m \u001b[1m3s\u001b[0m 4ms/step - accuracy: 0.8584 - loss: 0.3414 - val_accuracy: 0.8280 - val_loss: 0.3650\n",
      "Epoch 64/64\n",
      "\u001b[1m625/625\u001b[0m \u001b[32m━━━━━━━━━━━━━━━━━━━━\u001b[0m\u001b[37m\u001b[0m \u001b[1m3s\u001b[0m 4ms/step - accuracy: 0.8475 - loss: 0.3482 - val_accuracy: 0.8320 - val_loss: 0.3767\n"
     ]
    }
   ],
   "source": [
    "\n",
    "history = model.fit([inputs_train, queries_train], answers_train,batch_size=16,\n",
    "                    epochs=64,validation_data=([inputs_test, queries_test], answers_test))"
   ]
  },
  {
   "cell_type": "code",
   "execution_count": 84,
   "metadata": {
    "execution": {
     "iopub.execute_input": "2022-09-14T15:46:55.046420Z",
     "iopub.status.busy": "2022-09-14T15:46:55.046053Z",
     "iopub.status.idle": "2022-09-14T15:46:55.084085Z",
     "shell.execute_reply": "2022-09-14T15:46:55.083136Z",
     "shell.execute_reply.started": "2022-09-14T15:46:55.046387Z"
    }
   },
   "outputs": [
    {
     "name": "stderr",
     "output_type": "stream",
     "text": [
      "WARNING:absl:You are saving your model as an HDF5 file via `model.save()` or `keras.saving.save_model(model)`. This file format is considered legacy. We recommend using instead the native Keras format, e.g. `model.save('my_model.keras')` or `keras.saving.save_model(model, 'my_model.keras')`. \n"
     ]
    }
   ],
   "source": [
    "filename = 'chatbot_120_epochs.h5'\n",
    "model.save(filename)"
   ]
  },
  {
   "cell_type": "code",
   "execution_count": 85,
   "metadata": {
    "execution": {
     "iopub.execute_input": "2022-09-14T15:46:59.376603Z",
     "iopub.status.busy": "2022-09-14T15:46:59.375893Z",
     "iopub.status.idle": "2022-09-14T15:46:59.387225Z",
     "shell.execute_reply": "2022-09-14T15:46:59.385781Z",
     "shell.execute_reply.started": "2022-09-14T15:46:59.376547Z"
    }
   },
   "outputs": [
    {
     "name": "stdout",
     "output_type": "stream",
     "text": [
      "dict_keys(['accuracy', 'loss', 'val_accuracy', 'val_loss'])\n"
     ]
    }
   ],
   "source": [
    "import matplotlib.pyplot as plt\n",
    "%matplotlib inline\n",
    "print(history.history.keys())\n"
   ]
  },
  {
   "cell_type": "code",
   "execution_count": 86,
   "metadata": {
    "execution": {
     "iopub.execute_input": "2022-09-14T15:47:04.706865Z",
     "iopub.status.busy": "2022-09-14T15:47:04.706472Z",
     "iopub.status.idle": "2022-09-14T15:47:04.943154Z",
     "shell.execute_reply": "2022-09-14T15:47:04.941990Z",
     "shell.execute_reply.started": "2022-09-14T15:47:04.706830Z"
    }
   },
   "outputs": [
    {
     "data": {
      "image/png": "[encoded data removed]",
      "text/plain": [
       "<Figure size 640x480 with 1 Axes>"
      ]
     },
     "metadata": {},
     "output_type": "display_data"
    }
   ],
   "source": [
    "\n",
    "plt.plot(history.history['accuracy'])\n",
    "plt.plot(history.history['val_accuracy'])\n",
    "plt.title('model accuracy')\n",
    "plt.ylabel('accuracy')\n",
    "plt.xlabel('epoch')\n",
    "plt.grid()\n",
    "plt.legend(['train', 'test'], loc='upper left')\n",
    "plt.show()"
   ]
  },
  {
   "cell_type": "code",
   "execution_count": 87,
   "metadata": {
    "execution": {
     "iopub.execute_input": "2022-09-14T15:47:16.826374Z",
     "iopub.status.busy": "2022-09-14T15:47:16.825947Z",
     "iopub.status.idle": "2022-09-14T15:47:17.012850Z",
     "shell.execute_reply": "2022-09-14T15:47:17.011689Z",
     "shell.execute_reply.started": "2022-09-14T15:47:16.826333Z"
    }
   },
   "outputs": [
    {
     "data": {
      "image/png": "[encoded data removed]",
      "text/plain": [
       "<Figure size 640x480 with 1 Axes>"
      ]
     },
     "metadata": {},
     "output_type": "display_data"
    }
   ],
   "source": [
    "\n",
    "plt.plot(history.history['loss'])\n",
    "plt.plot(history.history['val_loss'])\n",
    "plt.title('model loss')\n",
    "plt.ylabel('loss')\n",
    "plt.xlabel('epoch')\n",
    "plt.grid()\n",
    "plt.legend(['train', 'test'], loc='upper left')\n",
    "plt.show()"
   ]
  },
  {
   "cell_type": "code",
   "execution_count": 88,
   "metadata": {
    "execution": {
     "iopub.execute_input": "2022-09-14T15:47:20.426469Z",
     "iopub.status.busy": "2022-09-14T15:47:20.425856Z",
     "iopub.status.idle": "2022-09-14T15:47:21.037682Z",
     "shell.execute_reply": "2022-09-14T15:47:21.036634Z",
     "shell.execute_reply.started": "2022-09-14T15:47:20.426416Z"
    }
   },
   "outputs": [
    {
     "name": "stdout",
     "output_type": "stream",
     "text": [
      "\u001b[1m32/32\u001b[0m \u001b[32m━━━━━━━━━━━━━━━━━━━━\u001b[0m\u001b[37m\u001b[0m \u001b[1m0s\u001b[0m 7ms/step\n"
     ]
    }
   ],
   "source": [
    "model.load_weights(filename)\n",
    "pred_results = model.predict(([inputs_test, queries_test]))"
   ]
  },
  {
   "cell_type": "code",
   "execution_count": 89,
   "metadata": {
    "execution": {
     "iopub.execute_input": "2022-09-14T15:47:23.216157Z",
     "iopub.status.busy": "2022-09-14T15:47:23.215746Z",
     "iopub.status.idle": "2022-09-14T15:47:23.224010Z",
     "shell.execute_reply": "2022-09-14T15:47:23.222679Z",
     "shell.execute_reply.started": "2022-09-14T15:47:23.216111Z"
    }
   },
   "outputs": [
    {
     "data": {
      "text/plain": [
       "['Mary',\n",
       " 'got',\n",
       " 'the',\n",
       " 'milk',\n",
       " 'there',\n",
       " '.',\n",
       " 'John',\n",
       " 'moved',\n",
       " 'to',\n",
       " 'the',\n",
       " 'bedroom',\n",
       " '.']"
      ]
     },
     "execution_count": 89,
     "metadata": {},
     "output_type": "execute_result"
    }
   ],
   "source": [
    "test_data[0][0]"
   ]
  },
  {
   "cell_type": "code",
   "execution_count": 90,
   "metadata": {
    "execution": {
     "iopub.execute_input": "2022-09-14T15:47:26.496358Z",
     "iopub.status.busy": "2022-09-14T15:47:26.495930Z",
     "iopub.status.idle": "2022-09-14T15:47:26.502940Z",
     "shell.execute_reply": "2022-09-14T15:47:26.501497Z",
     "shell.execute_reply.started": "2022-09-14T15:47:26.496313Z"
    }
   },
   "outputs": [
    {
     "name": "stdout",
     "output_type": "stream",
     "text": [
      "Mary got the milk there . John moved to the bedroom .\n"
     ]
    }
   ],
   "source": [
    "story =' '.join(word for word in test_data[0][0])\n",
    "print(story)"
   ]
  },
  {
   "cell_type": "code",
   "execution_count": 91,
   "metadata": {
    "execution": {
     "iopub.execute_input": "2022-09-14T15:47:29.326206Z",
     "iopub.status.busy": "2022-09-14T15:47:29.325813Z",
     "iopub.status.idle": "2022-09-14T15:47:29.333093Z",
     "shell.execute_reply": "2022-09-14T15:47:29.331551Z",
     "shell.execute_reply.started": "2022-09-14T15:47:29.326167Z"
    }
   },
   "outputs": [
    {
     "name": "stdout",
     "output_type": "stream",
     "text": [
      "Is John in the kitchen ?\n"
     ]
    }
   ],
   "source": [
    "query = ' '.join(word for word in test_data[0][1])\n",
    "print(query)"
   ]
  },
  {
   "cell_type": "code",
   "execution_count": 92,
   "metadata": {
    "execution": {
     "iopub.execute_input": "2022-09-14T15:47:32.406033Z",
     "iopub.status.busy": "2022-09-14T15:47:32.405609Z",
     "iopub.status.idle": "2022-09-14T15:47:32.412637Z",
     "shell.execute_reply": "2022-09-14T15:47:32.411354Z",
     "shell.execute_reply.started": "2022-09-14T15:47:32.405988Z"
    }
   },
   "outputs": [
    {
     "name": "stdout",
     "output_type": "stream",
     "text": [
      "True Test Answer from Data is: no\n"
     ]
    }
   ],
   "source": [
    "print(\"True Test Answer from Data is:\",test_data[0][2])"
   ]
  },
  {
   "cell_type": "code",
   "execution_count": 93,
   "metadata": {
    "execution": {
     "iopub.execute_input": "2022-09-14T15:47:35.596043Z",
     "iopub.status.busy": "2022-09-14T15:47:35.595680Z",
     "iopub.status.idle": "2022-09-14T15:47:35.608243Z",
     "shell.execute_reply": "2022-09-14T15:47:35.606780Z",
     "shell.execute_reply.started": "2022-09-14T15:47:35.596011Z"
    }
   },
   "outputs": [
    {
     "name": "stdout",
     "output_type": "stream",
     "text": [
      "Predicted answer is:  no\n",
      "Probability of certainty was:  0.6684904\n"
     ]
    }
   ],
   "source": [
    "\n",
    "val_max = np.argmax(pred_results[0])\n",
    "\n",
    "for key, val in tokenizer.word_index.items():\n",
    "    if val == val_max:\n",
    "        k = key\n",
    "\n",
    "print(\"Predicted answer is: \", k)\n",
    "print(\"Probability of certainty was: \", pred_results[0][val_max])"
   ]
  },
  {
   "cell_type": "code",
   "execution_count": 94,
   "metadata": {
    "execution": {
     "iopub.execute_input": "2022-09-14T15:47:45.068219Z",
     "iopub.status.busy": "2022-09-14T15:47:45.067799Z",
     "iopub.status.idle": "2022-09-14T15:47:45.075964Z",
     "shell.execute_reply": "2022-09-14T15:47:45.074765Z",
     "shell.execute_reply.started": "2022-09-14T15:47:45.068183Z"
    }
   },
   "outputs": [
    {
     "data": {
      "text/plain": [
       "{'.',\n",
       " '?',\n",
       " 'Daniel',\n",
       " 'Is',\n",
       " 'John',\n",
       " 'Mary',\n",
       " 'Sandra',\n",
       " 'apple',\n",
       " 'back',\n",
       " 'bathroom',\n",
       " 'bedroom',\n",
       " 'discarded',\n",
       " 'down',\n",
       " 'dropped',\n",
       " 'football',\n",
       " 'garden',\n",
       " 'got',\n",
       " 'grabbed',\n",
       " 'hallway',\n",
       " 'in',\n",
       " 'journeyed',\n",
       " 'kitchen',\n",
       " 'left',\n",
       " 'milk',\n",
       " 'moved',\n",
       " 'no',\n",
       " 'office',\n",
       " 'picked',\n",
       " 'put',\n",
       " 'the',\n",
       " 'there',\n",
       " 'to',\n",
       " 'took',\n",
       " 'travelled',\n",
       " 'up',\n",
       " 'went',\n",
       " 'yes'}"
      ]
     },
     "execution_count": 94,
     "metadata": {},
     "output_type": "execute_result"
    }
   ],
   "source": [
    "vocab"
   ]
  },
  {
   "cell_type": "code",
   "execution_count": 95,
   "metadata": {
    "execution": {
     "iopub.execute_input": "2022-09-14T15:47:48.436151Z",
     "iopub.status.busy": "2022-09-14T15:47:48.435789Z",
     "iopub.status.idle": "2022-09-14T15:47:48.442860Z",
     "shell.execute_reply": "2022-09-14T15:47:48.441774Z",
     "shell.execute_reply.started": "2022-09-14T15:47:48.436119Z"
    }
   },
   "outputs": [
    {
     "data": {
      "text/plain": [
       "['John',\n",
       " 'left',\n",
       " 'the',\n",
       " 'kitchen',\n",
       " '.',\n",
       " 'Sandra',\n",
       " 'dropped',\n",
       " 'the',\n",
       " 'football',\n",
       " 'in',\n",
       " 'the',\n",
       " 'garden',\n",
       " '.']"
      ]
     },
     "execution_count": 95,
     "metadata": {},
     "output_type": "execute_result"
    }
   ],
   "source": [
    "\n",
    "my_story = \"John left the kitchen . Sandra dropped the football in the garden .\"\n",
    "my_story.split()"
   ]
  },
  {
   "cell_type": "code",
   "execution_count": 96,
   "metadata": {
    "execution": {
     "iopub.execute_input": "2022-09-14T15:47:53.046112Z",
     "iopub.status.busy": "2022-09-14T15:47:53.045711Z",
     "iopub.status.idle": "2022-09-14T15:47:53.053581Z",
     "shell.execute_reply": "2022-09-14T15:47:53.052626Z",
     "shell.execute_reply.started": "2022-09-14T15:47:53.046076Z"
    }
   },
   "outputs": [],
   "source": [
    "my_question = \"Is the football in the kitchen ?\""
   ]
  },
  {
   "cell_type": "code",
   "execution_count": 97,
   "metadata": {
    "execution": {
     "iopub.execute_input": "2022-09-14T15:47:57.796492Z",
     "iopub.status.busy": "2022-09-14T15:47:57.796119Z",
     "iopub.status.idle": "2022-09-14T15:47:57.803763Z",
     "shell.execute_reply": "2022-09-14T15:47:57.802361Z",
     "shell.execute_reply.started": "2022-09-14T15:47:57.796460Z"
    }
   },
   "outputs": [],
   "source": [
    "my_story = \"John left the kitchen . Sandra dropped the football in the garden .\"\n",
    "splitted_my_story=my_story.split()"
   ]
  },
  {
   "cell_type": "code",
   "execution_count": 98,
   "metadata": {
    "execution": {
     "iopub.execute_input": "2022-09-14T15:48:00.206220Z",
     "iopub.status.busy": "2022-09-14T15:48:00.205835Z",
     "iopub.status.idle": "2022-09-14T15:48:00.211891Z",
     "shell.execute_reply": "2022-09-14T15:48:00.210466Z",
     "shell.execute_reply.started": "2022-09-14T15:48:00.206181Z"
    }
   },
   "outputs": [],
   "source": [
    "mydata = [(splitted_my_story,my_question.split(),'yes')]"
   ]
  },
  {
   "cell_type": "code",
   "execution_count": 99,
   "metadata": {
    "execution": {
     "iopub.execute_input": "2022-09-14T15:48:04.419939Z",
     "iopub.status.busy": "2022-09-14T15:48:04.419212Z",
     "iopub.status.idle": "2022-09-14T15:48:04.426912Z",
     "shell.execute_reply": "2022-09-14T15:48:04.425213Z",
     "shell.execute_reply.started": "2022-09-14T15:48:04.419884Z"
    }
   },
   "outputs": [],
   "source": [
    "my_story,my_ques,my_ans = vectorize_stories(mydata)"
   ]
  },
  {
   "cell_type": "code",
   "execution_count": 100,
   "metadata": {
    "execution": {
     "iopub.execute_input": "2022-09-14T15:48:06.957054Z",
     "iopub.status.busy": "2022-09-14T15:48:06.956438Z",
     "iopub.status.idle": "2022-09-14T15:48:07.006273Z",
     "shell.execute_reply": "2022-09-14T15:48:07.005251Z",
     "shell.execute_reply.started": "2022-09-14T15:48:06.957000Z"
    }
   },
   "outputs": [
    {
     "name": "stdout",
     "output_type": "stream",
     "text": [
      "\u001b[1m1/1\u001b[0m \u001b[32m━━━━━━━━━━━━━━━━━━━━\u001b[0m\u001b[37m\u001b[0m \u001b[1m0s\u001b[0m 29ms/step\n"
     ]
    }
   ],
   "source": [
    "pred_results = model.predict(([ my_story, my_ques]))"
   ]
  },
  {
   "cell_type": "code",
   "execution_count": 101,
   "metadata": {
    "execution": {
     "iopub.execute_input": "2022-09-14T15:48:08.146204Z",
     "iopub.status.busy": "2022-09-14T15:48:08.145813Z",
     "iopub.status.idle": "2022-09-14T15:48:08.153987Z",
     "shell.execute_reply": "2022-09-14T15:48:08.152984Z",
     "shell.execute_reply.started": "2022-09-14T15:48:08.146169Z"
    }
   },
   "outputs": [
    {
     "name": "stdout",
     "output_type": "stream",
     "text": [
      "Predicted answer is:  no\n",
      "Probability of certainty was:  0.99749064\n"
     ]
    }
   ],
   "source": [
    "\n",
    "val_max = np.argmax(pred_results[0])\n",
    "\n",
    "for key, val in tokenizer.word_index.items():\n",
    "    if val == val_max:\n",
    "        k = key\n",
    "\n",
    "print(\"Predicted answer is: \", k)\n",
    "print(\"Probability of certainty was: \", pred_results[0][val_max])"
   ]
  }
 ],
 "metadata": {
  "kernelspec": {
   "display_name": "Python 3 (ipykernel)",
   "language": "python",
   "name": "python3"
  },
  "language_info": {
   "codemirror_mode": {
    "name": "ipython",
    "version": 3
   },
   "file_extension": ".py",
   "mimetype": "text/x-python",
   "name": "python",
   "nbconvert_exporter": "python",
   "pygments_lexer": "ipython3",
   "version": "3.12.0"
  }
 },
 "nbformat": 4,
 "nbformat_minor": 4
}
